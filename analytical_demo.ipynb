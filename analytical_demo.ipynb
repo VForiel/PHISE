{
 "cells": [
  {
   "cell_type": "code",
   "execution_count": 1,
   "metadata": {},
   "outputs": [],
   "source": [
    "import sympy as sp\n",
    "import numpy as np\n",
    "import matplotlib.pyplot as plt\n",
    "plt.rcParams['image.origin'] = 'lower'"
   ]
  },
  {
   "cell_type": "code",
   "execution_count": 2,
   "metadata": {},
   "outputs": [],
   "source": [
    "p = sp.IndexedBase('p', real=True) # perturbation + correction\n",
    "e = sp.IndexedBase('sigma', real=True) # perturbation + correction\n",
    "\n",
    "alpha = sp.IndexedBase('alpha')\n",
    "gamma = sp.IndexedBase('gamma')\n",
    "\n",
    "o = sp.symbols('o', cls=sp.Idx) # origin (source) of the signal/aberation\n",
    "n = sp.symbols('n', cls=sp.Idx) # channel number\n",
    "\n",
    "c = sp.symbols('c', cls=sp.Idx) # component\n",
    "i = sp.symbols('i', cls=sp.Idx) # index\n",
    "\n",
    "theta = sp.symbols(r'\\theta', real=True) # angle of the source"
   ]
  },
  {
   "cell_type": "code",
   "execution_count": 3,
   "metadata": {},
   "outputs": [
    {
     "data": {
      "text/latex": [
       "$\\displaystyle e^{i {\\gamma}_{c,i}} {\\alpha}_{c,i}$"
      ],
      "text/plain": [
       "exp(I*gamma[c, i])*alpha[c, i]"
      ]
     },
     "execution_count": 3,
     "metadata": {},
     "output_type": "execute_result"
    }
   ],
   "source": [
    "perturbation = alpha[c,i] * sp.exp(sp.I * gamma[c,i])\n",
    "perturbation"
   ]
  },
  {
   "cell_type": "markdown",
   "metadata": {},
   "source": [
    "<div align=center>\n",
    "\n",
    "---\n",
    "\n",
    "# INPUT\n",
    "\n",
    "</div>"
   ]
  },
  {
   "cell_type": "markdown",
   "metadata": {},
   "source": [
    "4 input beams"
   ]
  },
  {
   "cell_type": "code",
   "execution_count": 4,
   "metadata": {},
   "outputs": [
    {
     "data": {
      "text/latex": [
       "$\\displaystyle \\left[\\begin{matrix}{x}_{1}\\\\{x}_{2}\\\\{x}_{3}\\\\{x}_{4}\\end{matrix}\\right]$"
      ],
      "text/plain": [
       "Matrix([\n",
       "[x[1]],\n",
       "[x[2]],\n",
       "[x[3]],\n",
       "[x[4]]])"
      ]
     },
     "execution_count": 4,
     "metadata": {},
     "output_type": "execute_result"
    }
   ],
   "source": [
    "x = sp.IndexedBase('x') # input signal\n",
    "X = sp.Matrix([\n",
    "    [x[1]],\n",
    "    [x[2]],\n",
    "    [x[3]],\n",
    "    [x[4]]\n",
    "])\n",
    "X"
   ]
  },
  {
   "cell_type": "code",
   "execution_count": 5,
   "metadata": {},
   "outputs": [
    {
     "data": {
      "text/latex": [
       "$\\displaystyle \\left[\\begin{matrix}e^{i \\left({p}_{1} + {\\sigma}_{1}\\right)} & 0 & 0 & 0\\\\0 & e^{i \\left({p}_{2} + {\\sigma}_{2}\\right)} & 0 & 0\\\\0 & 0 & e^{i \\left({p}_{3} + {\\sigma}_{3}\\right)} & 0\\\\0 & 0 & 0 & e^{i \\left({p}_{4} + {\\sigma}_{4}\\right)}\\end{matrix}\\right]$"
      ],
      "text/plain": [
       "Matrix([\n",
       "[exp(I*(p[1] + sigma[1])),                        0,                        0,                        0],\n",
       "[                       0, exp(I*(p[2] + sigma[2])),                        0,                        0],\n",
       "[                       0,                        0, exp(I*(p[3] + sigma[3])),                        0],\n",
       "[                       0,                        0,                        0, exp(I*(p[4] + sigma[4]))]])"
      ]
     },
     "execution_count": 5,
     "metadata": {},
     "output_type": "execute_result"
    }
   ],
   "source": [
    "p_1_4 = sp.Matrix([\n",
    "    [sp.exp(sp.I * (e[1] + p[1])), 0, 0, 0],\n",
    "    [0, sp.exp(sp.I * (e[2] + p[2])), 0, 0],\n",
    "    [0, 0, sp.exp(sp.I * (e[3] + p[3])), 0],\n",
    "    [0, 0, 0, sp.exp(sp.I * (e[4] + p[4]))]\n",
    "])\n",
    "p_1_4"
   ]
  },
  {
   "cell_type": "markdown",
   "metadata": {},
   "source": [
    "<div align=center>\n",
    "\n",
    "---\n",
    "\n",
    "# NULLER\n",
    "\n",
    "</div>\n",
    "\n",
    "## First Layer"
   ]
  },
  {
   "cell_type": "code",
   "execution_count": 6,
   "metadata": {},
   "outputs": [
    {
     "data": {
      "text/latex": [
       "$\\displaystyle \\left[\\begin{matrix}\\frac{\\sqrt{2}}{2} & \\frac{\\sqrt{2}}{2} & 0 & 0\\\\\\frac{\\sqrt{2}}{2} & - \\frac{\\sqrt{2}}{2} & 0 & 0\\\\0 & 0 & \\frac{\\sqrt{2}}{2} & \\frac{\\sqrt{2}}{2}\\\\0 & 0 & \\frac{\\sqrt{2}}{2} & - \\frac{\\sqrt{2}}{2}\\end{matrix}\\right]$"
      ],
      "text/plain": [
       "Matrix([\n",
       "[sqrt(2)/2,  sqrt(2)/2,         0,          0],\n",
       "[sqrt(2)/2, -sqrt(2)/2,         0,          0],\n",
       "[        0,          0, sqrt(2)/2,  sqrt(2)/2],\n",
       "[        0,          0, sqrt(2)/2, -sqrt(2)/2]])"
      ]
     },
     "execution_count": 6,
     "metadata": {},
     "output_type": "execute_result"
    }
   ],
   "source": [
    "Nlayer = 1/sp.sqrt(2) * sp.Matrix([\n",
    "    [1,  1,  0,  0],\n",
    "    [1, -1,  0,  0],\n",
    "    [0,  0,  1,  1],\n",
    "    [0,  0,  1, -1]\n",
    "])\n",
    "Nlayer"
   ]
  },
  {
   "cell_type": "markdown",
   "metadata": {},
   "source": [
    "Check if the nuller is physical"
   ]
  },
  {
   "cell_type": "code",
   "execution_count": 7,
   "metadata": {},
   "outputs": [
    {
     "data": {
      "text/latex": [
       "$\\displaystyle \\left[\\begin{matrix}1 & 0 & 0 & 0\\\\0 & 1 & 0 & 0\\\\0 & 0 & 1 & 0\\\\0 & 0 & 0 & 1\\end{matrix}\\right]$"
      ],
      "text/plain": [
       "Matrix([\n",
       "[1, 0, 0, 0],\n",
       "[0, 1, 0, 0],\n",
       "[0, 0, 1, 0],\n",
       "[0, 0, 0, 1]])"
      ]
     },
     "execution_count": 7,
     "metadata": {},
     "output_type": "execute_result"
    }
   ],
   "source": [
    "sp.conjugate(Nlayer).T * Nlayer"
   ]
  },
  {
   "cell_type": "code",
   "execution_count": 8,
   "metadata": {},
   "outputs": [
    {
     "data": {
      "text/latex": [
       "$\\displaystyle \\left[\\begin{matrix}e^{i \\left({p}_{5} + {\\sigma}_{5}\\right)} & 0 & 0 & 0\\\\0 & e^{i \\left({p}_{6} + {\\sigma}_{6}\\right)} & 0 & 0\\\\0 & 0 & e^{i \\left({p}_{7} + {\\sigma}_{7}\\right)} & 0\\\\0 & 0 & 0 & e^{i \\left({p}_{8} + {\\sigma}_{8}\\right)}\\end{matrix}\\right]$"
      ],
      "text/plain": [
       "Matrix([\n",
       "[exp(I*(p[5] + sigma[5])),                        0,                        0,                        0],\n",
       "[                       0, exp(I*(p[6] + sigma[6])),                        0,                        0],\n",
       "[                       0,                        0, exp(I*(p[7] + sigma[7])),                        0],\n",
       "[                       0,                        0,                        0, exp(I*(p[8] + sigma[8]))]])"
      ]
     },
     "execution_count": 8,
     "metadata": {},
     "output_type": "execute_result"
    }
   ],
   "source": [
    "p_5_8 = sp.Matrix([\n",
    "    [sp.exp(sp.I * (e[5] + p[5])), 0, 0, 0],\n",
    "    [0, sp.exp(sp.I * (e[6] + p[6])), 0, 0],\n",
    "    [0, 0, sp.exp(sp.I * (e[7] + p[7])), 0],\n",
    "    [0, 0, 0, sp.exp(sp.I * (e[8] + p[8]))]\n",
    "])\n",
    "p_5_8"
   ]
  },
  {
   "cell_type": "markdown",
   "metadata": {},
   "source": [
    "## Second layer"
   ]
  },
  {
   "cell_type": "markdown",
   "metadata": {},
   "source": [
    "Channel 2 & 3 invertion"
   ]
  },
  {
   "cell_type": "code",
   "execution_count": 9,
   "metadata": {},
   "outputs": [],
   "source": [
    "invert_2_3 = sp.Matrix([\n",
    "    [1, 0, 0, 0],\n",
    "    [0, 0, 1, 0],\n",
    "    [0, 1, 0, 0],\n",
    "    [0, 0, 0, 1]\n",
    "])"
   ]
  },
  {
   "cell_type": "code",
   "execution_count": 10,
   "metadata": {},
   "outputs": [
    {
     "data": {
      "text/latex": [
       "$\\displaystyle \\left[\\begin{matrix}1 & 0 & 0 & 0\\\\0 & 1 & 0 & 0\\\\0 & 0 & 1 & 0\\\\0 & 0 & 0 & 1\\end{matrix}\\right]$"
      ],
      "text/plain": [
       "Matrix([\n",
       "[1, 0, 0, 0],\n",
       "[0, 1, 0, 0],\n",
       "[0, 0, 1, 0],\n",
       "[0, 0, 0, 1]])"
      ]
     },
     "execution_count": 10,
     "metadata": {},
     "output_type": "execute_result"
    }
   ],
   "source": [
    "sp.conjugate(invert_2_3).T * invert_2_3"
   ]
  },
  {
   "cell_type": "markdown",
   "metadata": {},
   "source": [
    "Overall nuller without perturbations"
   ]
  },
  {
   "cell_type": "code",
   "execution_count": 11,
   "metadata": {},
   "outputs": [
    {
     "data": {
      "text/latex": [
       "$\\displaystyle \\left[\\begin{matrix}\\frac{1}{2} & \\frac{1}{2} & \\frac{1}{2} & \\frac{1}{2}\\\\\\frac{1}{2} & \\frac{1}{2} & - \\frac{1}{2} & - \\frac{1}{2}\\\\\\frac{1}{2} & - \\frac{1}{2} & \\frac{1}{2} & - \\frac{1}{2}\\\\\\frac{1}{2} & - \\frac{1}{2} & - \\frac{1}{2} & \\frac{1}{2}\\end{matrix}\\right]$"
      ],
      "text/plain": [
       "Matrix([\n",
       "[1/2,  1/2,  1/2,  1/2],\n",
       "[1/2,  1/2, -1/2, -1/2],\n",
       "[1/2, -1/2,  1/2, -1/2],\n",
       "[1/2, -1/2, -1/2,  1/2]])"
      ]
     },
     "execution_count": 11,
     "metadata": {},
     "output_type": "execute_result"
    }
   ],
   "source": [
    "N = Nlayer * invert_2_3 * Nlayer\n",
    "N"
   ]
  },
  {
   "cell_type": "code",
   "execution_count": 12,
   "metadata": {},
   "outputs": [
    {
     "data": {
      "text/latex": [
       "$\\displaystyle \\left[\\begin{matrix}1 & 0 & 0 & 0\\\\0 & 1 & 0 & 0\\\\0 & 0 & 1 & 0\\\\0 & 0 & 0 & 1\\end{matrix}\\right]$"
      ],
      "text/plain": [
       "Matrix([\n",
       "[1, 0, 0, 0],\n",
       "[0, 1, 0, 0],\n",
       "[0, 0, 1, 0],\n",
       "[0, 0, 0, 1]])"
      ]
     },
     "execution_count": 12,
     "metadata": {},
     "output_type": "execute_result"
    }
   ],
   "source": [
    "sp.conjugate(N).T * N"
   ]
  },
  {
   "cell_type": "markdown",
   "metadata": {},
   "source": [
    "<div align=center>\n",
    "\n",
    "---\n",
    "\n",
    "# SPLIT & MIX\n",
    "\n",
    "</div>"
   ]
  },
  {
   "cell_type": "markdown",
   "metadata": {},
   "source": [
    "Beam splitters"
   ]
  },
  {
   "cell_type": "code",
   "execution_count": 13,
   "metadata": {},
   "outputs": [
    {
     "data": {
      "text/latex": [
       "$\\displaystyle \\left[\\begin{matrix}1 & 0 & 0 & 0\\\\0 & \\frac{\\sqrt{2}}{2} & 0 & 0\\\\0 & \\frac{\\sqrt{2}}{2} & 0 & 0\\\\0 & 0 & \\frac{\\sqrt{2}}{2} & 0\\\\0 & 0 & \\frac{\\sqrt{2}}{2} & 0\\\\0 & 0 & 0 & \\frac{\\sqrt{2}}{2}\\\\0 & 0 & 0 & \\frac{\\sqrt{2}}{2}\\end{matrix}\\right]$"
      ],
      "text/plain": [
       "Matrix([\n",
       "[1,         0,         0,         0],\n",
       "[0, sqrt(2)/2,         0,         0],\n",
       "[0, sqrt(2)/2,         0,         0],\n",
       "[0,         0, sqrt(2)/2,         0],\n",
       "[0,         0, sqrt(2)/2,         0],\n",
       "[0,         0,         0, sqrt(2)/2],\n",
       "[0,         0,         0, sqrt(2)/2]])"
      ]
     },
     "execution_count": 13,
     "metadata": {},
     "output_type": "execute_result"
    }
   ],
   "source": [
    "splitters = 1/sp.sqrt(2) * sp.Matrix([\n",
    "    [sp.sqrt(2), 0, 0, 0],\n",
    "    [0, 1, 0, 0],\n",
    "    [0, 1, 0, 0],\n",
    "    [0, 0, 1, 0],\n",
    "    [0, 0, 1, 0],\n",
    "    [0, 0, 0, 1],\n",
    "    [0, 0, 0, 1]\n",
    "])\n",
    "splitters"
   ]
  },
  {
   "cell_type": "code",
   "execution_count": 14,
   "metadata": {},
   "outputs": [
    {
     "data": {
      "text/latex": [
       "$\\displaystyle \\left[\\begin{matrix}1 & 0 & 0 & 0\\\\0 & 1 & 0 & 0\\\\0 & 0 & 1 & 0\\\\0 & 0 & 0 & 1\\end{matrix}\\right]$"
      ],
      "text/plain": [
       "Matrix([\n",
       "[1, 0, 0, 0],\n",
       "[0, 1, 0, 0],\n",
       "[0, 0, 1, 0],\n",
       "[0, 0, 0, 1]])"
      ]
     },
     "execution_count": 14,
     "metadata": {},
     "output_type": "execute_result"
    }
   ],
   "source": [
    "sp.conjugate(splitters).T * splitters"
   ]
  },
  {
   "cell_type": "code",
   "execution_count": 15,
   "metadata": {},
   "outputs": [
    {
     "data": {
      "text/latex": [
       "$\\displaystyle \\left[\\begin{matrix}1 & 0 & 0 & 0 & 0 & 0 & 0\\\\0 & e^{i \\left({p}_{9} + {\\sigma}_{9}\\right)} & 0 & 0 & 0 & 0 & 0\\\\0 & 0 & e^{i \\left({p}_{10} + {\\sigma}_{10}\\right)} & 0 & 0 & 0 & 0\\\\0 & 0 & 0 & e^{i \\left({p}_{11} + {\\sigma}_{11}\\right)} & 0 & 0 & 0\\\\0 & 0 & 0 & 0 & e^{i \\left({p}_{12} + {\\sigma}_{12}\\right)} & 0 & 0\\\\0 & 0 & 0 & 0 & 0 & e^{i \\left({p}_{13} + {\\sigma}_{13}\\right)} & 0\\\\0 & 0 & 0 & 0 & 0 & 0 & e^{i \\left({p}_{14} + {\\sigma}_{14}\\right)}\\end{matrix}\\right]$"
      ],
      "text/plain": [
       "Matrix([\n",
       "[1,                        0,                          0,                          0,                          0,                          0,                          0],\n",
       "[0, exp(I*(p[9] + sigma[9])),                          0,                          0,                          0,                          0,                          0],\n",
       "[0,                        0, exp(I*(p[10] + sigma[10])),                          0,                          0,                          0,                          0],\n",
       "[0,                        0,                          0, exp(I*(p[11] + sigma[11])),                          0,                          0,                          0],\n",
       "[0,                        0,                          0,                          0, exp(I*(p[12] + sigma[12])),                          0,                          0],\n",
       "[0,                        0,                          0,                          0,                          0, exp(I*(p[13] + sigma[13])),                          0],\n",
       "[0,                        0,                          0,                          0,                          0,                          0, exp(I*(p[14] + sigma[14]))]])"
      ]
     },
     "execution_count": 15,
     "metadata": {},
     "output_type": "execute_result"
    }
   ],
   "source": [
    "p_9_14 = sp.Matrix([\n",
    "    [1, 0, 0, 0, 0, 0, 0],\n",
    "    [0, sp.exp(sp.I * (e[9] + p[9])), 0, 0, 0, 0, 0],\n",
    "    [0, 0, sp.exp(sp.I * (e[10] + p[10])), 0, 0, 0, 0],\n",
    "    [0, 0, 0, sp.exp(sp.I * (e[11] + p[11])), 0, 0, 0],\n",
    "    [0, 0, 0, 0, sp.exp(sp.I * (e[12] + p[12])), 0, 0],\n",
    "    [0, 0, 0, 0, 0, sp.exp(sp.I * (e[13] + p[13])), 0],\n",
    "    [0, 0, 0, 0, 0, 0, sp.exp(sp.I * (e[14] + p[14]))],\n",
    "])\n",
    "p_9_14"
   ]
  },
  {
   "cell_type": "markdown",
   "metadata": {},
   "source": [
    "2-3 and 4-5 invertion"
   ]
  },
  {
   "cell_type": "code",
   "execution_count": 16,
   "metadata": {},
   "outputs": [
    {
     "data": {
      "text/latex": [
       "$\\displaystyle \\left[\\begin{matrix}1 & 0 & 0 & 0 & 0 & 0 & 0\\\\0 & 1 & 0 & 0 & 0 & 0 & 0\\\\0 & 0 & 0 & 1 & 0 & 0 & 0\\\\0 & 0 & 1 & 0 & 0 & 0 & 0\\\\0 & 0 & 0 & 0 & 0 & 1 & 0\\\\0 & 0 & 0 & 0 & 1 & 0 & 0\\\\0 & 0 & 0 & 0 & 0 & 0 & 1\\end{matrix}\\right]$"
      ],
      "text/plain": [
       "Matrix([\n",
       "[1, 0, 0, 0, 0, 0, 0],\n",
       "[0, 1, 0, 0, 0, 0, 0],\n",
       "[0, 0, 0, 1, 0, 0, 0],\n",
       "[0, 0, 1, 0, 0, 0, 0],\n",
       "[0, 0, 0, 0, 0, 1, 0],\n",
       "[0, 0, 0, 0, 1, 0, 0],\n",
       "[0, 0, 0, 0, 0, 0, 1]])"
      ]
     },
     "execution_count": 16,
     "metadata": {},
     "output_type": "execute_result"
    }
   ],
   "source": [
    "invert_23_45 = sp.Matrix([\n",
    "    [1, 0, 0, 0, 0, 0, 0],\n",
    "    [0, 1, 0, 0, 0, 0, 0],\n",
    "    [0, 0, 0, 1, 0, 0, 0],\n",
    "    [0, 0, 1, 0, 0, 0, 0],\n",
    "    [0, 0, 0, 0, 0, 1, 0],\n",
    "    [0, 0, 0, 0, 1, 0, 0],\n",
    "    [0, 0, 0, 0, 0, 0, 1]\n",
    "])\n",
    "invert_23_45"
   ]
  },
  {
   "cell_type": "code",
   "execution_count": 17,
   "metadata": {},
   "outputs": [
    {
     "data": {
      "text/latex": [
       "$\\displaystyle \\left[\\begin{matrix}1 & 0 & 0 & 0 & 0 & 0 & 0\\\\0 & 1 & 0 & 0 & 0 & 0 & 0\\\\0 & 0 & 1 & 0 & 0 & 0 & 0\\\\0 & 0 & 0 & 1 & 0 & 0 & 0\\\\0 & 0 & 0 & 0 & 1 & 0 & 0\\\\0 & 0 & 0 & 0 & 0 & 1 & 0\\\\0 & 0 & 0 & 0 & 0 & 0 & 1\\end{matrix}\\right]$"
      ],
      "text/plain": [
       "Matrix([\n",
       "[1, 0, 0, 0, 0, 0, 0],\n",
       "[0, 1, 0, 0, 0, 0, 0],\n",
       "[0, 0, 1, 0, 0, 0, 0],\n",
       "[0, 0, 0, 1, 0, 0, 0],\n",
       "[0, 0, 0, 0, 1, 0, 0],\n",
       "[0, 0, 0, 0, 0, 1, 0],\n",
       "[0, 0, 0, 0, 0, 0, 1]])"
      ]
     },
     "execution_count": 17,
     "metadata": {},
     "output_type": "execute_result"
    }
   ],
   "source": [
    "sp.conjugate(invert_23_45).T * invert_23_45"
   ]
  },
  {
   "cell_type": "markdown",
   "metadata": {},
   "source": [
    "Split & Mix"
   ]
  },
  {
   "cell_type": "code",
   "execution_count": 18,
   "metadata": {},
   "outputs": [
    {
     "data": {
      "text/latex": [
       "$\\displaystyle \\left[\\begin{matrix}1 & 0 & 0 & 0 & 0 & 0 & 0\\\\0 & \\frac{\\sqrt{2} e^{\\frac{i \\pi}{4}}}{2} & \\frac{\\sqrt{2} e^{- \\frac{i \\pi}{4}}}{2} & 0 & 0 & 0 & 0\\\\0 & \\frac{\\sqrt{2} e^{- \\frac{i \\pi}{4}}}{2} & \\frac{\\sqrt{2} e^{\\frac{i \\pi}{4}}}{2} & 0 & 0 & 0 & 0\\\\0 & 0 & 0 & \\frac{\\sqrt{2} e^{\\frac{i \\pi}{4}}}{2} & \\frac{\\sqrt{2} e^{- \\frac{i \\pi}{4}}}{2} & 0 & 0\\\\0 & 0 & 0 & \\frac{\\sqrt{2} e^{- \\frac{i \\pi}{4}}}{2} & \\frac{\\sqrt{2} e^{\\frac{i \\pi}{4}}}{2} & 0 & 0\\\\0 & 0 & 0 & 0 & 0 & \\frac{\\sqrt{2} e^{\\frac{i \\pi}{4}}}{2} & \\frac{\\sqrt{2} e^{- \\frac{i \\pi}{4}}}{2}\\\\0 & 0 & 0 & 0 & 0 & \\frac{\\sqrt{2} e^{- \\frac{i \\pi}{4}}}{2} & \\frac{\\sqrt{2} e^{\\frac{i \\pi}{4}}}{2}\\end{matrix}\\right]$"
      ],
      "text/plain": [
       "Matrix([\n",
       "[1,                      0,                      0,                      0,                      0,                      0,                      0],\n",
       "[0,  sqrt(2)*exp(I*pi/4)/2, sqrt(2)*exp(-I*pi/4)/2,                      0,                      0,                      0,                      0],\n",
       "[0, sqrt(2)*exp(-I*pi/4)/2,  sqrt(2)*exp(I*pi/4)/2,                      0,                      0,                      0,                      0],\n",
       "[0,                      0,                      0,  sqrt(2)*exp(I*pi/4)/2, sqrt(2)*exp(-I*pi/4)/2,                      0,                      0],\n",
       "[0,                      0,                      0, sqrt(2)*exp(-I*pi/4)/2,  sqrt(2)*exp(I*pi/4)/2,                      0,                      0],\n",
       "[0,                      0,                      0,                      0,                      0,  sqrt(2)*exp(I*pi/4)/2, sqrt(2)*exp(-I*pi/4)/2],\n",
       "[0,                      0,                      0,                      0,                      0, sqrt(2)*exp(-I*pi/4)/2,  sqrt(2)*exp(I*pi/4)/2]])"
      ]
     },
     "execution_count": 18,
     "metadata": {},
     "output_type": "execute_result"
    }
   ],
   "source": [
    "theta = sp.pi / 4\n",
    "Slayer = 1/sp.sqrt(2) * sp.Matrix([\n",
    "    [sp.sqrt(2), 0, 0, 0, 0, 0, 0],\n",
    "    [0, sp.exp(sp.I * theta), sp.exp(-sp.I * theta), 0, 0, 0, 0],\n",
    "    [0, sp.exp(-sp.I * theta), sp.exp(sp.I * theta), 0, 0, 0, 0],\n",
    "    [0, 0, 0, sp.exp(sp.I * theta), sp.exp(-sp.I * theta), 0, 0],\n",
    "    [0, 0, 0, sp.exp(-sp.I * theta), sp.exp(sp.I * theta), 0, 0],\n",
    "    [0, 0, 0, 0, 0, sp.exp(sp.I * theta), sp.exp(-sp.I * theta)],\n",
    "    [0, 0, 0, 0, 0, sp.exp(-sp.I * theta), sp.exp(sp.I * theta)]\n",
    "])\n",
    "Slayer"
   ]
  },
  {
   "cell_type": "code",
   "execution_count": 19,
   "metadata": {},
   "outputs": [
    {
     "data": {
      "text/latex": [
       "$\\displaystyle \\left[\\begin{matrix}1 & 0 & 0 & 0 & 0 & 0 & 0\\\\0 & 1 & \\frac{1}{2} \\left(-1\\right) i + \\frac{i}{2} & 0 & 0 & 0 & 0\\\\0 & \\frac{1}{2} \\left(-1\\right) i + \\frac{i}{2} & 1 & 0 & 0 & 0 & 0\\\\0 & 0 & 0 & 1 & \\frac{1}{2} \\left(-1\\right) i + \\frac{i}{2} & 0 & 0\\\\0 & 0 & 0 & \\frac{1}{2} \\left(-1\\right) i + \\frac{i}{2} & 1 & 0 & 0\\\\0 & 0 & 0 & 0 & 0 & 1 & \\frac{1}{2} \\left(-1\\right) i + \\frac{i}{2}\\\\0 & 0 & 0 & 0 & 0 & \\frac{1}{2} \\left(-1\\right) i + \\frac{i}{2} & 1\\end{matrix}\\right]$"
      ],
      "text/plain": [
       "Matrix([\n",
       "[1,                  0,                  0,                  0,                  0,                  0,                  0],\n",
       "[0,                  1, (1/2)*(-1)*I + I/2,                  0,                  0,                  0,                  0],\n",
       "[0, (1/2)*(-1)*I + I/2,                  1,                  0,                  0,                  0,                  0],\n",
       "[0,                  0,                  0,                  1, (1/2)*(-1)*I + I/2,                  0,                  0],\n",
       "[0,                  0,                  0, (1/2)*(-1)*I + I/2,                  1,                  0,                  0],\n",
       "[0,                  0,                  0,                  0,                  0,                  1, (1/2)*(-1)*I + I/2],\n",
       "[0,                  0,                  0,                  0,                  0, (1/2)*(-1)*I + I/2,                  1]])"
      ]
     },
     "execution_count": 19,
     "metadata": {},
     "output_type": "execute_result"
    }
   ],
   "source": [
    "sp.conjugate(Slayer).T * Slayer"
   ]
  },
  {
   "cell_type": "markdown",
   "metadata": {},
   "source": [
    "N'est physique que si $\\frac{e^{2i\\theta}}{2} + \\frac{e^{-2i\\theta}}{2} = cos(2\\theta)=0 \\rightarrow \\theta = \\{-\\frac{3\\pi}{4}, -\\frac{\\pi}{4}, \\frac{\\pi}{4}, \\frac{3\\pi}{4}\\}[\\pi]$"
   ]
  },
  {
   "cell_type": "code",
   "execution_count": 20,
   "metadata": {},
   "outputs": [
    {
     "data": {
      "text/latex": [
       "$\\displaystyle \\left[\\begin{matrix}1 & 0 & 0 & 0\\\\0 & \\frac{e^{\\frac{i \\pi}{4}}}{2} & \\frac{e^{- \\frac{i \\pi}{4}}}{2} & 0\\\\0 & \\frac{e^{- \\frac{i \\pi}{4}}}{2} & \\frac{e^{\\frac{i \\pi}{4}}}{2} & 0\\\\0 & \\frac{e^{\\frac{i \\pi}{4}}}{2} & 0 & \\frac{e^{- \\frac{i \\pi}{4}}}{2}\\\\0 & \\frac{e^{- \\frac{i \\pi}{4}}}{2} & 0 & \\frac{e^{\\frac{i \\pi}{4}}}{2}\\\\0 & 0 & \\frac{e^{\\frac{i \\pi}{4}}}{2} & \\frac{e^{- \\frac{i \\pi}{4}}}{2}\\\\0 & 0 & \\frac{e^{- \\frac{i \\pi}{4}}}{2} & \\frac{e^{\\frac{i \\pi}{4}}}{2}\\end{matrix}\\right]$"
      ],
      "text/plain": [
       "Matrix([\n",
       "[1,              0,              0,              0],\n",
       "[0,  exp(I*pi/4)/2, exp(-I*pi/4)/2,              0],\n",
       "[0, exp(-I*pi/4)/2,  exp(I*pi/4)/2,              0],\n",
       "[0,  exp(I*pi/4)/2,              0, exp(-I*pi/4)/2],\n",
       "[0, exp(-I*pi/4)/2,              0,  exp(I*pi/4)/2],\n",
       "[0,              0,  exp(I*pi/4)/2, exp(-I*pi/4)/2],\n",
       "[0,              0, exp(-I*pi/4)/2,  exp(I*pi/4)/2]])"
      ]
     },
     "execution_count": 20,
     "metadata": {},
     "output_type": "execute_result"
    }
   ],
   "source": [
    "S = Slayer * invert_23_45 * splitters\n",
    "S"
   ]
  },
  {
   "cell_type": "code",
   "execution_count": 21,
   "metadata": {},
   "outputs": [
    {
     "data": {
      "text/latex": [
       "$\\displaystyle \\left[\\begin{matrix}1 & 0 & 0 & 0\\\\0 & 1 & \\frac{1}{4} \\left(-1\\right) i + \\frac{i}{4} & \\frac{1}{4} \\left(-1\\right) i + \\frac{i}{4}\\\\0 & \\frac{1}{4} \\left(-1\\right) i + \\frac{i}{4} & 1 & \\frac{1}{4} \\left(-1\\right) i + \\frac{i}{4}\\\\0 & \\frac{1}{4} \\left(-1\\right) i + \\frac{i}{4} & \\frac{1}{4} \\left(-1\\right) i + \\frac{i}{4} & 1\\end{matrix}\\right]$"
      ],
      "text/plain": [
       "Matrix([\n",
       "[1,                  0,                  0,                  0],\n",
       "[0,                  1, (1/4)*(-1)*I + I/4, (1/4)*(-1)*I + I/4],\n",
       "[0, (1/4)*(-1)*I + I/4,                  1, (1/4)*(-1)*I + I/4],\n",
       "[0, (1/4)*(-1)*I + I/4, (1/4)*(-1)*I + I/4,                  1]])"
      ]
     },
     "execution_count": 21,
     "metadata": {},
     "output_type": "execute_result"
    }
   ],
   "source": [
    "sp.conjugate(S).T * S"
   ]
  },
  {
   "cell_type": "markdown",
   "metadata": {},
   "source": [
    "\\begin{equation}\n",
    "\\begin{split}\n",
    "\\eta &= 2 \\left(\\frac{1}{2} + \\frac{e^{-i\\theta}}{2}\\right)\\left(\\frac{e^{i\\theta}}{2} + \\frac{1}{2} \\right) \\\\\n",
    "&= 2 * \\left(\\frac{e^{i\\theta}}{4} + \\frac{1}{4} + \\frac{e^{-i\\theta}}{4} + \\frac{1}{4} \\right) \\\\\n",
    "&= \\frac{1}{2} \\left(2 + e^{i\\theta} + e^{-i\\theta} \\right) \\\\\n",
    "&= \\frac{1}{2} \\left(2 + 2 cos(\\theta)\\right) \\\\\n",
    "&= 1 + cos(\\theta)\n",
    "\\end{split}\n",
    "\\end{equation}\n",
    "\n",
    "As the previous one, this matrix is then physical only if $\\theta = \\frac{\\pi}{2} (n+1) \\rightarrow cos(\\theta)=0$"
   ]
  },
  {
   "cell_type": "markdown",
   "metadata": {},
   "source": [
    "<div align=center>\n",
    "\n",
    "---\n",
    "\n",
    "# KERNEL\n",
    "\n",
    "</div>"
   ]
  },
  {
   "cell_type": "code",
   "execution_count": 22,
   "metadata": {},
   "outputs": [
    {
     "data": {
      "text/latex": [
       "$\\displaystyle \\left[\\begin{matrix}1 & 0 & 0 & 0 & 0 & 0 & 0\\\\0 & 1 & -1 & 0 & 0 & 0 & 0\\\\0 & 0 & 0 & 1 & -1 & 0 & 0\\\\0 & 0 & 0 & 0 & 0 & 1 & -1\\end{matrix}\\right]$"
      ],
      "text/plain": [
       "Matrix([\n",
       "[1, 0,  0, 0,  0, 0,  0],\n",
       "[0, 1, -1, 0,  0, 0,  0],\n",
       "[0, 0,  0, 1, -1, 0,  0],\n",
       "[0, 0,  0, 0,  0, 1, -1]])"
      ]
     },
     "execution_count": 22,
     "metadata": {},
     "output_type": "execute_result"
    }
   ],
   "source": [
    "K = sp.Matrix([\n",
    "    [1, 0, 0, 0, 0, 0, 0],\n",
    "    [0, 1,-1, 0, 0, 0, 0],\n",
    "    [0, 0, 0, 1,-1, 0, 0],\n",
    "    [0, 0, 0, 0, 0, 1,-1],\n",
    "])\n",
    "K"
   ]
  },
  {
   "cell_type": "markdown",
   "metadata": {},
   "source": [
    "As the kernel creation process is fully numeric, there is no need to check if it is physical or not."
   ]
  },
  {
   "cell_type": "markdown",
   "metadata": {},
   "source": [
    "<div align=center>\n",
    "\n",
    "---\n",
    "\n",
    "# OVERALL MATRIX\n",
    "\n",
    "</div>"
   ]
  },
  {
   "cell_type": "code",
   "execution_count": 23,
   "metadata": {},
   "outputs": [
    {
     "data": {
      "text/latex": [
       "$\\displaystyle \\left[\\begin{matrix}\\frac{e^{i \\left({p}_{1} + {\\sigma}_{1}\\right)} e^{i \\left({p}_{5} + {\\sigma}_{5}\\right)}}{2} & \\frac{e^{i \\left({p}_{2} + {\\sigma}_{2}\\right)} e^{i \\left({p}_{5} + {\\sigma}_{5}\\right)}}{2} & \\frac{e^{i \\left({p}_{3} + {\\sigma}_{3}\\right)} e^{i \\left({p}_{7} + {\\sigma}_{7}\\right)}}{2} & \\frac{e^{i \\left({p}_{4} + {\\sigma}_{4}\\right)} e^{i \\left({p}_{7} + {\\sigma}_{7}\\right)}}{2}\\\\\\left(\\frac{e^{- \\frac{i \\pi}{4}} e^{i \\left({p}_{11} + {\\sigma}_{11}\\right)} e^{i \\left({p}_{6} + {\\sigma}_{6}\\right)}}{4} + \\frac{e^{\\frac{i \\pi}{4}} e^{i \\left({p}_{5} + {\\sigma}_{5}\\right)} e^{i \\left({p}_{9} + {\\sigma}_{9}\\right)}}{4}\\right) e^{i \\left({p}_{1} + {\\sigma}_{1}\\right)} & \\left(- \\frac{e^{- \\frac{i \\pi}{4}} e^{i \\left({p}_{11} + {\\sigma}_{11}\\right)} e^{i \\left({p}_{6} + {\\sigma}_{6}\\right)}}{4} + \\frac{e^{\\frac{i \\pi}{4}} e^{i \\left({p}_{5} + {\\sigma}_{5}\\right)} e^{i \\left({p}_{9} + {\\sigma}_{9}\\right)}}{4}\\right) e^{i \\left({p}_{2} + {\\sigma}_{2}\\right)} & \\left(\\frac{e^{- \\frac{i \\pi}{4}} e^{i \\left({p}_{11} + {\\sigma}_{11}\\right)} e^{i \\left({p}_{8} + {\\sigma}_{8}\\right)}}{4} - \\frac{e^{\\frac{i \\pi}{4}} e^{i \\left({p}_{7} + {\\sigma}_{7}\\right)} e^{i \\left({p}_{9} + {\\sigma}_{9}\\right)}}{4}\\right) e^{i \\left({p}_{3} + {\\sigma}_{3}\\right)} & \\left(- \\frac{e^{- \\frac{i \\pi}{4}} e^{i \\left({p}_{11} + {\\sigma}_{11}\\right)} e^{i \\left({p}_{8} + {\\sigma}_{8}\\right)}}{4} - \\frac{e^{\\frac{i \\pi}{4}} e^{i \\left({p}_{7} + {\\sigma}_{7}\\right)} e^{i \\left({p}_{9} + {\\sigma}_{9}\\right)}}{4}\\right) e^{i \\left({p}_{4} + {\\sigma}_{4}\\right)}\\\\\\left(\\frac{e^{\\frac{i \\pi}{4}} e^{i \\left({p}_{11} + {\\sigma}_{11}\\right)} e^{i \\left({p}_{6} + {\\sigma}_{6}\\right)}}{4} + \\frac{e^{- \\frac{i \\pi}{4}} e^{i \\left({p}_{5} + {\\sigma}_{5}\\right)} e^{i \\left({p}_{9} + {\\sigma}_{9}\\right)}}{4}\\right) e^{i \\left({p}_{1} + {\\sigma}_{1}\\right)} & \\left(- \\frac{e^{\\frac{i \\pi}{4}} e^{i \\left({p}_{11} + {\\sigma}_{11}\\right)} e^{i \\left({p}_{6} + {\\sigma}_{6}\\right)}}{4} + \\frac{e^{- \\frac{i \\pi}{4}} e^{i \\left({p}_{5} + {\\sigma}_{5}\\right)} e^{i \\left({p}_{9} + {\\sigma}_{9}\\right)}}{4}\\right) e^{i \\left({p}_{2} + {\\sigma}_{2}\\right)} & \\left(\\frac{e^{\\frac{i \\pi}{4}} e^{i \\left({p}_{11} + {\\sigma}_{11}\\right)} e^{i \\left({p}_{8} + {\\sigma}_{8}\\right)}}{4} - \\frac{e^{- \\frac{i \\pi}{4}} e^{i \\left({p}_{7} + {\\sigma}_{7}\\right)} e^{i \\left({p}_{9} + {\\sigma}_{9}\\right)}}{4}\\right) e^{i \\left({p}_{3} + {\\sigma}_{3}\\right)} & \\left(- \\frac{e^{\\frac{i \\pi}{4}} e^{i \\left({p}_{11} + {\\sigma}_{11}\\right)} e^{i \\left({p}_{8} + {\\sigma}_{8}\\right)}}{4} - \\frac{e^{- \\frac{i \\pi}{4}} e^{i \\left({p}_{7} + {\\sigma}_{7}\\right)} e^{i \\left({p}_{9} + {\\sigma}_{9}\\right)}}{4}\\right) e^{i \\left({p}_{4} + {\\sigma}_{4}\\right)}\\\\\\left(\\frac{e^{\\frac{i \\pi}{4}} e^{i \\left({p}_{10} + {\\sigma}_{10}\\right)} e^{i \\left({p}_{5} + {\\sigma}_{5}\\right)}}{4} + \\frac{e^{- \\frac{i \\pi}{4}} e^{i \\left({p}_{13} + {\\sigma}_{13}\\right)} e^{i \\left({p}_{6} + {\\sigma}_{6}\\right)}}{4}\\right) e^{i \\left({p}_{1} + {\\sigma}_{1}\\right)} & \\left(\\frac{e^{\\frac{i \\pi}{4}} e^{i \\left({p}_{10} + {\\sigma}_{10}\\right)} e^{i \\left({p}_{5} + {\\sigma}_{5}\\right)}}{4} - \\frac{e^{- \\frac{i \\pi}{4}} e^{i \\left({p}_{13} + {\\sigma}_{13}\\right)} e^{i \\left({p}_{6} + {\\sigma}_{6}\\right)}}{4}\\right) e^{i \\left({p}_{2} + {\\sigma}_{2}\\right)} & \\left(- \\frac{e^{\\frac{i \\pi}{4}} e^{i \\left({p}_{10} + {\\sigma}_{10}\\right)} e^{i \\left({p}_{7} + {\\sigma}_{7}\\right)}}{4} - \\frac{e^{- \\frac{i \\pi}{4}} e^{i \\left({p}_{13} + {\\sigma}_{13}\\right)} e^{i \\left({p}_{8} + {\\sigma}_{8}\\right)}}{4}\\right) e^{i \\left({p}_{3} + {\\sigma}_{3}\\right)} & \\left(- \\frac{e^{\\frac{i \\pi}{4}} e^{i \\left({p}_{10} + {\\sigma}_{10}\\right)} e^{i \\left({p}_{7} + {\\sigma}_{7}\\right)}}{4} + \\frac{e^{- \\frac{i \\pi}{4}} e^{i \\left({p}_{13} + {\\sigma}_{13}\\right)} e^{i \\left({p}_{8} + {\\sigma}_{8}\\right)}}{4}\\right) e^{i \\left({p}_{4} + {\\sigma}_{4}\\right)}\\\\\\left(\\frac{e^{- \\frac{i \\pi}{4}} e^{i \\left({p}_{10} + {\\sigma}_{10}\\right)} e^{i \\left({p}_{5} + {\\sigma}_{5}\\right)}}{4} + \\frac{e^{\\frac{i \\pi}{4}} e^{i \\left({p}_{13} + {\\sigma}_{13}\\right)} e^{i \\left({p}_{6} + {\\sigma}_{6}\\right)}}{4}\\right) e^{i \\left({p}_{1} + {\\sigma}_{1}\\right)} & \\left(\\frac{e^{- \\frac{i \\pi}{4}} e^{i \\left({p}_{10} + {\\sigma}_{10}\\right)} e^{i \\left({p}_{5} + {\\sigma}_{5}\\right)}}{4} - \\frac{e^{\\frac{i \\pi}{4}} e^{i \\left({p}_{13} + {\\sigma}_{13}\\right)} e^{i \\left({p}_{6} + {\\sigma}_{6}\\right)}}{4}\\right) e^{i \\left({p}_{2} + {\\sigma}_{2}\\right)} & \\left(- \\frac{e^{- \\frac{i \\pi}{4}} e^{i \\left({p}_{10} + {\\sigma}_{10}\\right)} e^{i \\left({p}_{7} + {\\sigma}_{7}\\right)}}{4} - \\frac{e^{\\frac{i \\pi}{4}} e^{i \\left({p}_{13} + {\\sigma}_{13}\\right)} e^{i \\left({p}_{8} + {\\sigma}_{8}\\right)}}{4}\\right) e^{i \\left({p}_{3} + {\\sigma}_{3}\\right)} & \\left(- \\frac{e^{- \\frac{i \\pi}{4}} e^{i \\left({p}_{10} + {\\sigma}_{10}\\right)} e^{i \\left({p}_{7} + {\\sigma}_{7}\\right)}}{4} + \\frac{e^{\\frac{i \\pi}{4}} e^{i \\left({p}_{13} + {\\sigma}_{13}\\right)} e^{i \\left({p}_{8} + {\\sigma}_{8}\\right)}}{4}\\right) e^{i \\left({p}_{4} + {\\sigma}_{4}\\right)}\\\\\\frac{\\sqrt{2} \\left(\\frac{\\sqrt{2} e^{\\frac{i \\pi}{4}} e^{i \\left({p}_{12} + {\\sigma}_{12}\\right)}}{4} + \\frac{\\sqrt{2} e^{- \\frac{i \\pi}{4}} e^{i \\left({p}_{14} + {\\sigma}_{14}\\right)}}{4}\\right) e^{i \\left({p}_{1} + {\\sigma}_{1}\\right)} e^{i \\left({p}_{6} + {\\sigma}_{6}\\right)}}{2} & - \\frac{\\sqrt{2} \\left(\\frac{\\sqrt{2} e^{\\frac{i \\pi}{4}} e^{i \\left({p}_{12} + {\\sigma}_{12}\\right)}}{4} + \\frac{\\sqrt{2} e^{- \\frac{i \\pi}{4}} e^{i \\left({p}_{14} + {\\sigma}_{14}\\right)}}{4}\\right) e^{i \\left({p}_{2} + {\\sigma}_{2}\\right)} e^{i \\left({p}_{6} + {\\sigma}_{6}\\right)}}{2} & \\frac{\\sqrt{2} \\left(\\frac{\\sqrt{2} e^{\\frac{i \\pi}{4}} e^{i \\left({p}_{12} + {\\sigma}_{12}\\right)}}{4} - \\frac{\\sqrt{2} e^{- \\frac{i \\pi}{4}} e^{i \\left({p}_{14} + {\\sigma}_{14}\\right)}}{4}\\right) e^{i \\left({p}_{3} + {\\sigma}_{3}\\right)} e^{i \\left({p}_{8} + {\\sigma}_{8}\\right)}}{2} & - \\frac{\\sqrt{2} \\left(\\frac{\\sqrt{2} e^{\\frac{i \\pi}{4}} e^{i \\left({p}_{12} + {\\sigma}_{12}\\right)}}{4} - \\frac{\\sqrt{2} e^{- \\frac{i \\pi}{4}} e^{i \\left({p}_{14} + {\\sigma}_{14}\\right)}}{4}\\right) e^{i \\left({p}_{4} + {\\sigma}_{4}\\right)} e^{i \\left({p}_{8} + {\\sigma}_{8}\\right)}}{2}\\\\\\frac{\\sqrt{2} \\left(\\frac{\\sqrt{2} e^{- \\frac{i \\pi}{4}} e^{i \\left({p}_{12} + {\\sigma}_{12}\\right)}}{4} + \\frac{\\sqrt{2} e^{\\frac{i \\pi}{4}} e^{i \\left({p}_{14} + {\\sigma}_{14}\\right)}}{4}\\right) e^{i \\left({p}_{1} + {\\sigma}_{1}\\right)} e^{i \\left({p}_{6} + {\\sigma}_{6}\\right)}}{2} & - \\frac{\\sqrt{2} \\left(\\frac{\\sqrt{2} e^{- \\frac{i \\pi}{4}} e^{i \\left({p}_{12} + {\\sigma}_{12}\\right)}}{4} + \\frac{\\sqrt{2} e^{\\frac{i \\pi}{4}} e^{i \\left({p}_{14} + {\\sigma}_{14}\\right)}}{4}\\right) e^{i \\left({p}_{2} + {\\sigma}_{2}\\right)} e^{i \\left({p}_{6} + {\\sigma}_{6}\\right)}}{2} & \\frac{\\sqrt{2} \\left(\\frac{\\sqrt{2} e^{- \\frac{i \\pi}{4}} e^{i \\left({p}_{12} + {\\sigma}_{12}\\right)}}{4} - \\frac{\\sqrt{2} e^{\\frac{i \\pi}{4}} e^{i \\left({p}_{14} + {\\sigma}_{14}\\right)}}{4}\\right) e^{i \\left({p}_{3} + {\\sigma}_{3}\\right)} e^{i \\left({p}_{8} + {\\sigma}_{8}\\right)}}{2} & - \\frac{\\sqrt{2} \\left(\\frac{\\sqrt{2} e^{- \\frac{i \\pi}{4}} e^{i \\left({p}_{12} + {\\sigma}_{12}\\right)}}{4} - \\frac{\\sqrt{2} e^{\\frac{i \\pi}{4}} e^{i \\left({p}_{14} + {\\sigma}_{14}\\right)}}{4}\\right) e^{i \\left({p}_{4} + {\\sigma}_{4}\\right)} e^{i \\left({p}_{8} + {\\sigma}_{8}\\right)}}{2}\\end{matrix}\\right]$"
      ],
      "text/plain": [
       "Matrix([\n",
       "[                                                                                                               exp(I*(p[1] + sigma[1]))*exp(I*(p[5] + sigma[5]))/2,                                                                                                                 exp(I*(p[2] + sigma[2]))*exp(I*(p[5] + sigma[5]))/2,                                                                                                                exp(I*(p[3] + sigma[3]))*exp(I*(p[7] + sigma[7]))/2,                                                                                                                 exp(I*(p[4] + sigma[4]))*exp(I*(p[7] + sigma[7]))/2],\n",
       "[   (exp(-I*pi/4)*exp(I*(p[11] + sigma[11]))*exp(I*(p[6] + sigma[6]))/4 + exp(I*pi/4)*exp(I*(p[5] + sigma[5]))*exp(I*(p[9] + sigma[9]))/4)*exp(I*(p[1] + sigma[1])),    (-exp(-I*pi/4)*exp(I*(p[11] + sigma[11]))*exp(I*(p[6] + sigma[6]))/4 + exp(I*pi/4)*exp(I*(p[5] + sigma[5]))*exp(I*(p[9] + sigma[9]))/4)*exp(I*(p[2] + sigma[2])),    (exp(-I*pi/4)*exp(I*(p[11] + sigma[11]))*exp(I*(p[8] + sigma[8]))/4 - exp(I*pi/4)*exp(I*(p[7] + sigma[7]))*exp(I*(p[9] + sigma[9]))/4)*exp(I*(p[3] + sigma[3])),    (-exp(-I*pi/4)*exp(I*(p[11] + sigma[11]))*exp(I*(p[8] + sigma[8]))/4 - exp(I*pi/4)*exp(I*(p[7] + sigma[7]))*exp(I*(p[9] + sigma[9]))/4)*exp(I*(p[4] + sigma[4]))],\n",
       "[   (exp(I*pi/4)*exp(I*(p[11] + sigma[11]))*exp(I*(p[6] + sigma[6]))/4 + exp(-I*pi/4)*exp(I*(p[5] + sigma[5]))*exp(I*(p[9] + sigma[9]))/4)*exp(I*(p[1] + sigma[1])),    (-exp(I*pi/4)*exp(I*(p[11] + sigma[11]))*exp(I*(p[6] + sigma[6]))/4 + exp(-I*pi/4)*exp(I*(p[5] + sigma[5]))*exp(I*(p[9] + sigma[9]))/4)*exp(I*(p[2] + sigma[2])),    (exp(I*pi/4)*exp(I*(p[11] + sigma[11]))*exp(I*(p[8] + sigma[8]))/4 - exp(-I*pi/4)*exp(I*(p[7] + sigma[7]))*exp(I*(p[9] + sigma[9]))/4)*exp(I*(p[3] + sigma[3])),    (-exp(I*pi/4)*exp(I*(p[11] + sigma[11]))*exp(I*(p[8] + sigma[8]))/4 - exp(-I*pi/4)*exp(I*(p[7] + sigma[7]))*exp(I*(p[9] + sigma[9]))/4)*exp(I*(p[4] + sigma[4]))],\n",
       "[ (exp(I*pi/4)*exp(I*(p[10] + sigma[10]))*exp(I*(p[5] + sigma[5]))/4 + exp(-I*pi/4)*exp(I*(p[13] + sigma[13]))*exp(I*(p[6] + sigma[6]))/4)*exp(I*(p[1] + sigma[1])),   (exp(I*pi/4)*exp(I*(p[10] + sigma[10]))*exp(I*(p[5] + sigma[5]))/4 - exp(-I*pi/4)*exp(I*(p[13] + sigma[13]))*exp(I*(p[6] + sigma[6]))/4)*exp(I*(p[2] + sigma[2])), (-exp(I*pi/4)*exp(I*(p[10] + sigma[10]))*exp(I*(p[7] + sigma[7]))/4 - exp(-I*pi/4)*exp(I*(p[13] + sigma[13]))*exp(I*(p[8] + sigma[8]))/4)*exp(I*(p[3] + sigma[3])),  (-exp(I*pi/4)*exp(I*(p[10] + sigma[10]))*exp(I*(p[7] + sigma[7]))/4 + exp(-I*pi/4)*exp(I*(p[13] + sigma[13]))*exp(I*(p[8] + sigma[8]))/4)*exp(I*(p[4] + sigma[4]))],\n",
       "[ (exp(-I*pi/4)*exp(I*(p[10] + sigma[10]))*exp(I*(p[5] + sigma[5]))/4 + exp(I*pi/4)*exp(I*(p[13] + sigma[13]))*exp(I*(p[6] + sigma[6]))/4)*exp(I*(p[1] + sigma[1])),   (exp(-I*pi/4)*exp(I*(p[10] + sigma[10]))*exp(I*(p[5] + sigma[5]))/4 - exp(I*pi/4)*exp(I*(p[13] + sigma[13]))*exp(I*(p[6] + sigma[6]))/4)*exp(I*(p[2] + sigma[2])), (-exp(-I*pi/4)*exp(I*(p[10] + sigma[10]))*exp(I*(p[7] + sigma[7]))/4 - exp(I*pi/4)*exp(I*(p[13] + sigma[13]))*exp(I*(p[8] + sigma[8]))/4)*exp(I*(p[3] + sigma[3])),  (-exp(-I*pi/4)*exp(I*(p[10] + sigma[10]))*exp(I*(p[7] + sigma[7]))/4 + exp(I*pi/4)*exp(I*(p[13] + sigma[13]))*exp(I*(p[8] + sigma[8]))/4)*exp(I*(p[4] + sigma[4]))],\n",
       "[sqrt(2)*(sqrt(2)*exp(I*pi/4)*exp(I*(p[12] + sigma[12]))/4 + sqrt(2)*exp(-I*pi/4)*exp(I*(p[14] + sigma[14]))/4)*exp(I*(p[1] + sigma[1]))*exp(I*(p[6] + sigma[6]))/2, -sqrt(2)*(sqrt(2)*exp(I*pi/4)*exp(I*(p[12] + sigma[12]))/4 + sqrt(2)*exp(-I*pi/4)*exp(I*(p[14] + sigma[14]))/4)*exp(I*(p[2] + sigma[2]))*exp(I*(p[6] + sigma[6]))/2, sqrt(2)*(sqrt(2)*exp(I*pi/4)*exp(I*(p[12] + sigma[12]))/4 - sqrt(2)*exp(-I*pi/4)*exp(I*(p[14] + sigma[14]))/4)*exp(I*(p[3] + sigma[3]))*exp(I*(p[8] + sigma[8]))/2, -sqrt(2)*(sqrt(2)*exp(I*pi/4)*exp(I*(p[12] + sigma[12]))/4 - sqrt(2)*exp(-I*pi/4)*exp(I*(p[14] + sigma[14]))/4)*exp(I*(p[4] + sigma[4]))*exp(I*(p[8] + sigma[8]))/2],\n",
       "[sqrt(2)*(sqrt(2)*exp(-I*pi/4)*exp(I*(p[12] + sigma[12]))/4 + sqrt(2)*exp(I*pi/4)*exp(I*(p[14] + sigma[14]))/4)*exp(I*(p[1] + sigma[1]))*exp(I*(p[6] + sigma[6]))/2, -sqrt(2)*(sqrt(2)*exp(-I*pi/4)*exp(I*(p[12] + sigma[12]))/4 + sqrt(2)*exp(I*pi/4)*exp(I*(p[14] + sigma[14]))/4)*exp(I*(p[2] + sigma[2]))*exp(I*(p[6] + sigma[6]))/2, sqrt(2)*(sqrt(2)*exp(-I*pi/4)*exp(I*(p[12] + sigma[12]))/4 - sqrt(2)*exp(I*pi/4)*exp(I*(p[14] + sigma[14]))/4)*exp(I*(p[3] + sigma[3]))*exp(I*(p[8] + sigma[8]))/2, -sqrt(2)*(sqrt(2)*exp(-I*pi/4)*exp(I*(p[12] + sigma[12]))/4 - sqrt(2)*exp(I*pi/4)*exp(I*(p[14] + sigma[14]))/4)*exp(I*(p[4] + sigma[4]))*exp(I*(p[8] + sigma[8]))/2]])"
      ]
     },
     "execution_count": 23,
     "metadata": {},
     "output_type": "execute_result"
    }
   ],
   "source": [
    "M = Slayer * invert_23_45 * p_9_14 * splitters * Nlayer * invert_2_3 * p_5_8 * Nlayer * p_1_4\n",
    "M"
   ]
  },
  {
   "cell_type": "markdown",
   "metadata": {},
   "source": [
    "Transfer functions"
   ]
  },
  {
   "cell_type": "code",
   "execution_count": 24,
   "metadata": {},
   "outputs": [
    {
     "data": {
      "text/latex": [
       "$\\displaystyle \\left[\\begin{matrix}\\frac{e^{i \\left({p}_{1} + {\\sigma}_{1}\\right)} e^{i \\left({p}_{5} + {\\sigma}_{5}\\right)} {x}_{1}}{2} + \\frac{e^{i \\left({p}_{2} + {\\sigma}_{2}\\right)} e^{i \\left({p}_{5} + {\\sigma}_{5}\\right)} {x}_{2}}{2} + \\frac{e^{i \\left({p}_{3} + {\\sigma}_{3}\\right)} e^{i \\left({p}_{7} + {\\sigma}_{7}\\right)} {x}_{3}}{2} + \\frac{e^{i \\left({p}_{4} + {\\sigma}_{4}\\right)} e^{i \\left({p}_{7} + {\\sigma}_{7}\\right)} {x}_{4}}{2}\\\\\\left(- \\frac{e^{- \\frac{i \\pi}{4}} e^{i \\left({p}_{11} + {\\sigma}_{11}\\right)} e^{i \\left({p}_{6} + {\\sigma}_{6}\\right)}}{4} + \\frac{e^{\\frac{i \\pi}{4}} e^{i \\left({p}_{5} + {\\sigma}_{5}\\right)} e^{i \\left({p}_{9} + {\\sigma}_{9}\\right)}}{4}\\right) e^{i \\left({p}_{2} + {\\sigma}_{2}\\right)} {x}_{2} + \\left(\\frac{e^{- \\frac{i \\pi}{4}} e^{i \\left({p}_{11} + {\\sigma}_{11}\\right)} e^{i \\left({p}_{6} + {\\sigma}_{6}\\right)}}{4} + \\frac{e^{\\frac{i \\pi}{4}} e^{i \\left({p}_{5} + {\\sigma}_{5}\\right)} e^{i \\left({p}_{9} + {\\sigma}_{9}\\right)}}{4}\\right) e^{i \\left({p}_{1} + {\\sigma}_{1}\\right)} {x}_{1} + \\left(- \\frac{e^{- \\frac{i \\pi}{4}} e^{i \\left({p}_{11} + {\\sigma}_{11}\\right)} e^{i \\left({p}_{8} + {\\sigma}_{8}\\right)}}{4} - \\frac{e^{\\frac{i \\pi}{4}} e^{i \\left({p}_{7} + {\\sigma}_{7}\\right)} e^{i \\left({p}_{9} + {\\sigma}_{9}\\right)}}{4}\\right) e^{i \\left({p}_{4} + {\\sigma}_{4}\\right)} {x}_{4} + \\left(\\frac{e^{- \\frac{i \\pi}{4}} e^{i \\left({p}_{11} + {\\sigma}_{11}\\right)} e^{i \\left({p}_{8} + {\\sigma}_{8}\\right)}}{4} - \\frac{e^{\\frac{i \\pi}{4}} e^{i \\left({p}_{7} + {\\sigma}_{7}\\right)} e^{i \\left({p}_{9} + {\\sigma}_{9}\\right)}}{4}\\right) e^{i \\left({p}_{3} + {\\sigma}_{3}\\right)} {x}_{3}\\\\\\left(- \\frac{e^{\\frac{i \\pi}{4}} e^{i \\left({p}_{11} + {\\sigma}_{11}\\right)} e^{i \\left({p}_{6} + {\\sigma}_{6}\\right)}}{4} + \\frac{e^{- \\frac{i \\pi}{4}} e^{i \\left({p}_{5} + {\\sigma}_{5}\\right)} e^{i \\left({p}_{9} + {\\sigma}_{9}\\right)}}{4}\\right) e^{i \\left({p}_{2} + {\\sigma}_{2}\\right)} {x}_{2} + \\left(\\frac{e^{\\frac{i \\pi}{4}} e^{i \\left({p}_{11} + {\\sigma}_{11}\\right)} e^{i \\left({p}_{6} + {\\sigma}_{6}\\right)}}{4} + \\frac{e^{- \\frac{i \\pi}{4}} e^{i \\left({p}_{5} + {\\sigma}_{5}\\right)} e^{i \\left({p}_{9} + {\\sigma}_{9}\\right)}}{4}\\right) e^{i \\left({p}_{1} + {\\sigma}_{1}\\right)} {x}_{1} + \\left(- \\frac{e^{\\frac{i \\pi}{4}} e^{i \\left({p}_{11} + {\\sigma}_{11}\\right)} e^{i \\left({p}_{8} + {\\sigma}_{8}\\right)}}{4} - \\frac{e^{- \\frac{i \\pi}{4}} e^{i \\left({p}_{7} + {\\sigma}_{7}\\right)} e^{i \\left({p}_{9} + {\\sigma}_{9}\\right)}}{4}\\right) e^{i \\left({p}_{4} + {\\sigma}_{4}\\right)} {x}_{4} + \\left(\\frac{e^{\\frac{i \\pi}{4}} e^{i \\left({p}_{11} + {\\sigma}_{11}\\right)} e^{i \\left({p}_{8} + {\\sigma}_{8}\\right)}}{4} - \\frac{e^{- \\frac{i \\pi}{4}} e^{i \\left({p}_{7} + {\\sigma}_{7}\\right)} e^{i \\left({p}_{9} + {\\sigma}_{9}\\right)}}{4}\\right) e^{i \\left({p}_{3} + {\\sigma}_{3}\\right)} {x}_{3}\\\\\\left(\\frac{e^{\\frac{i \\pi}{4}} e^{i \\left({p}_{10} + {\\sigma}_{10}\\right)} e^{i \\left({p}_{5} + {\\sigma}_{5}\\right)}}{4} - \\frac{e^{- \\frac{i \\pi}{4}} e^{i \\left({p}_{13} + {\\sigma}_{13}\\right)} e^{i \\left({p}_{6} + {\\sigma}_{6}\\right)}}{4}\\right) e^{i \\left({p}_{2} + {\\sigma}_{2}\\right)} {x}_{2} + \\left(\\frac{e^{\\frac{i \\pi}{4}} e^{i \\left({p}_{10} + {\\sigma}_{10}\\right)} e^{i \\left({p}_{5} + {\\sigma}_{5}\\right)}}{4} + \\frac{e^{- \\frac{i \\pi}{4}} e^{i \\left({p}_{13} + {\\sigma}_{13}\\right)} e^{i \\left({p}_{6} + {\\sigma}_{6}\\right)}}{4}\\right) e^{i \\left({p}_{1} + {\\sigma}_{1}\\right)} {x}_{1} + \\left(- \\frac{e^{\\frac{i \\pi}{4}} e^{i \\left({p}_{10} + {\\sigma}_{10}\\right)} e^{i \\left({p}_{7} + {\\sigma}_{7}\\right)}}{4} - \\frac{e^{- \\frac{i \\pi}{4}} e^{i \\left({p}_{13} + {\\sigma}_{13}\\right)} e^{i \\left({p}_{8} + {\\sigma}_{8}\\right)}}{4}\\right) e^{i \\left({p}_{3} + {\\sigma}_{3}\\right)} {x}_{3} + \\left(- \\frac{e^{\\frac{i \\pi}{4}} e^{i \\left({p}_{10} + {\\sigma}_{10}\\right)} e^{i \\left({p}_{7} + {\\sigma}_{7}\\right)}}{4} + \\frac{e^{- \\frac{i \\pi}{4}} e^{i \\left({p}_{13} + {\\sigma}_{13}\\right)} e^{i \\left({p}_{8} + {\\sigma}_{8}\\right)}}{4}\\right) e^{i \\left({p}_{4} + {\\sigma}_{4}\\right)} {x}_{4}\\\\\\left(\\frac{e^{- \\frac{i \\pi}{4}} e^{i \\left({p}_{10} + {\\sigma}_{10}\\right)} e^{i \\left({p}_{5} + {\\sigma}_{5}\\right)}}{4} - \\frac{e^{\\frac{i \\pi}{4}} e^{i \\left({p}_{13} + {\\sigma}_{13}\\right)} e^{i \\left({p}_{6} + {\\sigma}_{6}\\right)}}{4}\\right) e^{i \\left({p}_{2} + {\\sigma}_{2}\\right)} {x}_{2} + \\left(\\frac{e^{- \\frac{i \\pi}{4}} e^{i \\left({p}_{10} + {\\sigma}_{10}\\right)} e^{i \\left({p}_{5} + {\\sigma}_{5}\\right)}}{4} + \\frac{e^{\\frac{i \\pi}{4}} e^{i \\left({p}_{13} + {\\sigma}_{13}\\right)} e^{i \\left({p}_{6} + {\\sigma}_{6}\\right)}}{4}\\right) e^{i \\left({p}_{1} + {\\sigma}_{1}\\right)} {x}_{1} + \\left(- \\frac{e^{- \\frac{i \\pi}{4}} e^{i \\left({p}_{10} + {\\sigma}_{10}\\right)} e^{i \\left({p}_{7} + {\\sigma}_{7}\\right)}}{4} - \\frac{e^{\\frac{i \\pi}{4}} e^{i \\left({p}_{13} + {\\sigma}_{13}\\right)} e^{i \\left({p}_{8} + {\\sigma}_{8}\\right)}}{4}\\right) e^{i \\left({p}_{3} + {\\sigma}_{3}\\right)} {x}_{3} + \\left(- \\frac{e^{- \\frac{i \\pi}{4}} e^{i \\left({p}_{10} + {\\sigma}_{10}\\right)} e^{i \\left({p}_{7} + {\\sigma}_{7}\\right)}}{4} + \\frac{e^{\\frac{i \\pi}{4}} e^{i \\left({p}_{13} + {\\sigma}_{13}\\right)} e^{i \\left({p}_{8} + {\\sigma}_{8}\\right)}}{4}\\right) e^{i \\left({p}_{4} + {\\sigma}_{4}\\right)} {x}_{4}\\\\\\frac{\\sqrt{2} \\left(\\frac{\\sqrt{2} e^{\\frac{i \\pi}{4}} e^{i \\left({p}_{12} + {\\sigma}_{12}\\right)}}{4} - \\frac{\\sqrt{2} e^{- \\frac{i \\pi}{4}} e^{i \\left({p}_{14} + {\\sigma}_{14}\\right)}}{4}\\right) e^{i \\left({p}_{3} + {\\sigma}_{3}\\right)} e^{i \\left({p}_{8} + {\\sigma}_{8}\\right)} {x}_{3}}{2} - \\frac{\\sqrt{2} \\left(\\frac{\\sqrt{2} e^{\\frac{i \\pi}{4}} e^{i \\left({p}_{12} + {\\sigma}_{12}\\right)}}{4} - \\frac{\\sqrt{2} e^{- \\frac{i \\pi}{4}} e^{i \\left({p}_{14} + {\\sigma}_{14}\\right)}}{4}\\right) e^{i \\left({p}_{4} + {\\sigma}_{4}\\right)} e^{i \\left({p}_{8} + {\\sigma}_{8}\\right)} {x}_{4}}{2} + \\frac{\\sqrt{2} \\left(\\frac{\\sqrt{2} e^{\\frac{i \\pi}{4}} e^{i \\left({p}_{12} + {\\sigma}_{12}\\right)}}{4} + \\frac{\\sqrt{2} e^{- \\frac{i \\pi}{4}} e^{i \\left({p}_{14} + {\\sigma}_{14}\\right)}}{4}\\right) e^{i \\left({p}_{1} + {\\sigma}_{1}\\right)} e^{i \\left({p}_{6} + {\\sigma}_{6}\\right)} {x}_{1}}{2} - \\frac{\\sqrt{2} \\left(\\frac{\\sqrt{2} e^{\\frac{i \\pi}{4}} e^{i \\left({p}_{12} + {\\sigma}_{12}\\right)}}{4} + \\frac{\\sqrt{2} e^{- \\frac{i \\pi}{4}} e^{i \\left({p}_{14} + {\\sigma}_{14}\\right)}}{4}\\right) e^{i \\left({p}_{2} + {\\sigma}_{2}\\right)} e^{i \\left({p}_{6} + {\\sigma}_{6}\\right)} {x}_{2}}{2}\\\\\\frac{\\sqrt{2} \\left(\\frac{\\sqrt{2} e^{- \\frac{i \\pi}{4}} e^{i \\left({p}_{12} + {\\sigma}_{12}\\right)}}{4} - \\frac{\\sqrt{2} e^{\\frac{i \\pi}{4}} e^{i \\left({p}_{14} + {\\sigma}_{14}\\right)}}{4}\\right) e^{i \\left({p}_{3} + {\\sigma}_{3}\\right)} e^{i \\left({p}_{8} + {\\sigma}_{8}\\right)} {x}_{3}}{2} - \\frac{\\sqrt{2} \\left(\\frac{\\sqrt{2} e^{- \\frac{i \\pi}{4}} e^{i \\left({p}_{12} + {\\sigma}_{12}\\right)}}{4} - \\frac{\\sqrt{2} e^{\\frac{i \\pi}{4}} e^{i \\left({p}_{14} + {\\sigma}_{14}\\right)}}{4}\\right) e^{i \\left({p}_{4} + {\\sigma}_{4}\\right)} e^{i \\left({p}_{8} + {\\sigma}_{8}\\right)} {x}_{4}}{2} + \\frac{\\sqrt{2} \\left(\\frac{\\sqrt{2} e^{- \\frac{i \\pi}{4}} e^{i \\left({p}_{12} + {\\sigma}_{12}\\right)}}{4} + \\frac{\\sqrt{2} e^{\\frac{i \\pi}{4}} e^{i \\left({p}_{14} + {\\sigma}_{14}\\right)}}{4}\\right) e^{i \\left({p}_{1} + {\\sigma}_{1}\\right)} e^{i \\left({p}_{6} + {\\sigma}_{6}\\right)} {x}_{1}}{2} - \\frac{\\sqrt{2} \\left(\\frac{\\sqrt{2} e^{- \\frac{i \\pi}{4}} e^{i \\left({p}_{12} + {\\sigma}_{12}\\right)}}{4} + \\frac{\\sqrt{2} e^{\\frac{i \\pi}{4}} e^{i \\left({p}_{14} + {\\sigma}_{14}\\right)}}{4}\\right) e^{i \\left({p}_{2} + {\\sigma}_{2}\\right)} e^{i \\left({p}_{6} + {\\sigma}_{6}\\right)} {x}_{2}}{2}\\end{matrix}\\right]$"
      ],
      "text/plain": [
       "Matrix([\n",
       "[                                                                                                                                                                                                                                                                                                                                                                                                                                                            exp(I*(p[1] + sigma[1]))*exp(I*(p[5] + sigma[5]))*x[1]/2 + exp(I*(p[2] + sigma[2]))*exp(I*(p[5] + sigma[5]))*x[2]/2 + exp(I*(p[3] + sigma[3]))*exp(I*(p[7] + sigma[7]))*x[3]/2 + exp(I*(p[4] + sigma[4]))*exp(I*(p[7] + sigma[7]))*x[4]/2],\n",
       "[          (-exp(-I*pi/4)*exp(I*(p[11] + sigma[11]))*exp(I*(p[6] + sigma[6]))/4 + exp(I*pi/4)*exp(I*(p[5] + sigma[5]))*exp(I*(p[9] + sigma[9]))/4)*exp(I*(p[2] + sigma[2]))*x[2] + (exp(-I*pi/4)*exp(I*(p[11] + sigma[11]))*exp(I*(p[6] + sigma[6]))/4 + exp(I*pi/4)*exp(I*(p[5] + sigma[5]))*exp(I*(p[9] + sigma[9]))/4)*exp(I*(p[1] + sigma[1]))*x[1] + (-exp(-I*pi/4)*exp(I*(p[11] + sigma[11]))*exp(I*(p[8] + sigma[8]))/4 - exp(I*pi/4)*exp(I*(p[7] + sigma[7]))*exp(I*(p[9] + sigma[9]))/4)*exp(I*(p[4] + sigma[4]))*x[4] + (exp(-I*pi/4)*exp(I*(p[11] + sigma[11]))*exp(I*(p[8] + sigma[8]))/4 - exp(I*pi/4)*exp(I*(p[7] + sigma[7]))*exp(I*(p[9] + sigma[9]))/4)*exp(I*(p[3] + sigma[3]))*x[3]],\n",
       "[          (-exp(I*pi/4)*exp(I*(p[11] + sigma[11]))*exp(I*(p[6] + sigma[6]))/4 + exp(-I*pi/4)*exp(I*(p[5] + sigma[5]))*exp(I*(p[9] + sigma[9]))/4)*exp(I*(p[2] + sigma[2]))*x[2] + (exp(I*pi/4)*exp(I*(p[11] + sigma[11]))*exp(I*(p[6] + sigma[6]))/4 + exp(-I*pi/4)*exp(I*(p[5] + sigma[5]))*exp(I*(p[9] + sigma[9]))/4)*exp(I*(p[1] + sigma[1]))*x[1] + (-exp(I*pi/4)*exp(I*(p[11] + sigma[11]))*exp(I*(p[8] + sigma[8]))/4 - exp(-I*pi/4)*exp(I*(p[7] + sigma[7]))*exp(I*(p[9] + sigma[9]))/4)*exp(I*(p[4] + sigma[4]))*x[4] + (exp(I*pi/4)*exp(I*(p[11] + sigma[11]))*exp(I*(p[8] + sigma[8]))/4 - exp(-I*pi/4)*exp(I*(p[7] + sigma[7]))*exp(I*(p[9] + sigma[9]))/4)*exp(I*(p[3] + sigma[3]))*x[3]],\n",
       "[  (exp(I*pi/4)*exp(I*(p[10] + sigma[10]))*exp(I*(p[5] + sigma[5]))/4 - exp(-I*pi/4)*exp(I*(p[13] + sigma[13]))*exp(I*(p[6] + sigma[6]))/4)*exp(I*(p[2] + sigma[2]))*x[2] + (exp(I*pi/4)*exp(I*(p[10] + sigma[10]))*exp(I*(p[5] + sigma[5]))/4 + exp(-I*pi/4)*exp(I*(p[13] + sigma[13]))*exp(I*(p[6] + sigma[6]))/4)*exp(I*(p[1] + sigma[1]))*x[1] + (-exp(I*pi/4)*exp(I*(p[10] + sigma[10]))*exp(I*(p[7] + sigma[7]))/4 - exp(-I*pi/4)*exp(I*(p[13] + sigma[13]))*exp(I*(p[8] + sigma[8]))/4)*exp(I*(p[3] + sigma[3]))*x[3] + (-exp(I*pi/4)*exp(I*(p[10] + sigma[10]))*exp(I*(p[7] + sigma[7]))/4 + exp(-I*pi/4)*exp(I*(p[13] + sigma[13]))*exp(I*(p[8] + sigma[8]))/4)*exp(I*(p[4] + sigma[4]))*x[4]],\n",
       "[  (exp(-I*pi/4)*exp(I*(p[10] + sigma[10]))*exp(I*(p[5] + sigma[5]))/4 - exp(I*pi/4)*exp(I*(p[13] + sigma[13]))*exp(I*(p[6] + sigma[6]))/4)*exp(I*(p[2] + sigma[2]))*x[2] + (exp(-I*pi/4)*exp(I*(p[10] + sigma[10]))*exp(I*(p[5] + sigma[5]))/4 + exp(I*pi/4)*exp(I*(p[13] + sigma[13]))*exp(I*(p[6] + sigma[6]))/4)*exp(I*(p[1] + sigma[1]))*x[1] + (-exp(-I*pi/4)*exp(I*(p[10] + sigma[10]))*exp(I*(p[7] + sigma[7]))/4 - exp(I*pi/4)*exp(I*(p[13] + sigma[13]))*exp(I*(p[8] + sigma[8]))/4)*exp(I*(p[3] + sigma[3]))*x[3] + (-exp(-I*pi/4)*exp(I*(p[10] + sigma[10]))*exp(I*(p[7] + sigma[7]))/4 + exp(I*pi/4)*exp(I*(p[13] + sigma[13]))*exp(I*(p[8] + sigma[8]))/4)*exp(I*(p[4] + sigma[4]))*x[4]],\n",
       "[sqrt(2)*(sqrt(2)*exp(I*pi/4)*exp(I*(p[12] + sigma[12]))/4 - sqrt(2)*exp(-I*pi/4)*exp(I*(p[14] + sigma[14]))/4)*exp(I*(p[3] + sigma[3]))*exp(I*(p[8] + sigma[8]))*x[3]/2 - sqrt(2)*(sqrt(2)*exp(I*pi/4)*exp(I*(p[12] + sigma[12]))/4 - sqrt(2)*exp(-I*pi/4)*exp(I*(p[14] + sigma[14]))/4)*exp(I*(p[4] + sigma[4]))*exp(I*(p[8] + sigma[8]))*x[4]/2 + sqrt(2)*(sqrt(2)*exp(I*pi/4)*exp(I*(p[12] + sigma[12]))/4 + sqrt(2)*exp(-I*pi/4)*exp(I*(p[14] + sigma[14]))/4)*exp(I*(p[1] + sigma[1]))*exp(I*(p[6] + sigma[6]))*x[1]/2 - sqrt(2)*(sqrt(2)*exp(I*pi/4)*exp(I*(p[12] + sigma[12]))/4 + sqrt(2)*exp(-I*pi/4)*exp(I*(p[14] + sigma[14]))/4)*exp(I*(p[2] + sigma[2]))*exp(I*(p[6] + sigma[6]))*x[2]/2],\n",
       "[sqrt(2)*(sqrt(2)*exp(-I*pi/4)*exp(I*(p[12] + sigma[12]))/4 - sqrt(2)*exp(I*pi/4)*exp(I*(p[14] + sigma[14]))/4)*exp(I*(p[3] + sigma[3]))*exp(I*(p[8] + sigma[8]))*x[3]/2 - sqrt(2)*(sqrt(2)*exp(-I*pi/4)*exp(I*(p[12] + sigma[12]))/4 - sqrt(2)*exp(I*pi/4)*exp(I*(p[14] + sigma[14]))/4)*exp(I*(p[4] + sigma[4]))*exp(I*(p[8] + sigma[8]))*x[4]/2 + sqrt(2)*(sqrt(2)*exp(-I*pi/4)*exp(I*(p[12] + sigma[12]))/4 + sqrt(2)*exp(I*pi/4)*exp(I*(p[14] + sigma[14]))/4)*exp(I*(p[1] + sigma[1]))*exp(I*(p[6] + sigma[6]))*x[1]/2 - sqrt(2)*(sqrt(2)*exp(-I*pi/4)*exp(I*(p[12] + sigma[12]))/4 + sqrt(2)*exp(I*pi/4)*exp(I*(p[14] + sigma[14]))/4)*exp(I*(p[2] + sigma[2]))*exp(I*(p[6] + sigma[6]))*x[2]/2]])"
      ]
     },
     "execution_count": 24,
     "metadata": {},
     "output_type": "execute_result"
    }
   ],
   "source": [
    "zip\n",
    "f = M * X\n",
    "f"
   ]
  },
  {
   "cell_type": "code",
   "execution_count": 25,
   "metadata": {},
   "outputs": [
    {
     "name": "stdout",
     "output_type": "stream",
     "text": [
      "exp(I*(p[1] + p[5] + sigma[1] + sigma[5]))*x[1]/2 + exp(I*(p[2] + p[5] + sigma[2] + sigma[5]))*x[2]/2 + exp(I*(p[3] + p[7] + sigma[3] + sigma[7]))*x[3]/2 + exp(I*(p[4] + p[7] + sigma[4] + sigma[7]))*x[4]/2\n",
      "(-1)**(3/4)*((exp(I*(p[11] + p[6] + sigma[11] + sigma[6])) - I*exp(I*(p[5] + p[9] + sigma[5] + sigma[9])))*exp(I*(p[2] + sigma[2]))*x[2] - (exp(I*(p[11] + p[6] + sigma[11] + sigma[6])) + I*exp(I*(p[5] + p[9] + sigma[5] + sigma[9])))*exp(I*(p[1] + sigma[1]))*x[1] - (exp(I*(p[11] + p[8] + sigma[11] + sigma[8])) - I*exp(I*(p[7] + p[9] + sigma[7] + sigma[9])))*exp(I*(p[3] + sigma[3]))*x[3] + (exp(I*(p[11] + p[8] + sigma[11] + sigma[8])) + I*exp(I*(p[7] + p[9] + sigma[7] + sigma[9])))*exp(I*(p[4] + sigma[4]))*x[4])/4\n",
      "(-1)**(3/4)*((I*exp(I*(p[11] + p[6] + sigma[11] + sigma[6])) - exp(I*(p[5] + p[9] + sigma[5] + sigma[9])))*exp(I*(p[2] + sigma[2]))*x[2] - (I*exp(I*(p[11] + p[6] + sigma[11] + sigma[6])) + exp(I*(p[5] + p[9] + sigma[5] + sigma[9])))*exp(I*(p[1] + sigma[1]))*x[1] - (I*exp(I*(p[11] + p[8] + sigma[11] + sigma[8])) - exp(I*(p[7] + p[9] + sigma[7] + sigma[9])))*exp(I*(p[3] + sigma[3]))*x[3] + (I*exp(I*(p[11] + p[8] + sigma[11] + sigma[8])) + exp(I*(p[7] + p[9] + sigma[7] + sigma[9])))*exp(I*(p[4] + sigma[4]))*x[4])/4\n",
      "(-1)**(3/4)*(-(I*exp(I*(p[10] + p[5] + sigma[10] + sigma[5])) - exp(I*(p[13] + p[6] + sigma[13] + sigma[6])))*exp(I*(p[2] + sigma[2]))*x[2] - (I*exp(I*(p[10] + p[5] + sigma[10] + sigma[5])) + exp(I*(p[13] + p[6] + sigma[13] + sigma[6])))*exp(I*(p[1] + sigma[1]))*x[1] + (I*exp(I*(p[10] + p[7] + sigma[10] + sigma[7])) - exp(I*(p[13] + p[8] + sigma[13] + sigma[8])))*exp(I*(p[4] + sigma[4]))*x[4] + (I*exp(I*(p[10] + p[7] + sigma[10] + sigma[7])) + exp(I*(p[13] + p[8] + sigma[13] + sigma[8])))*exp(I*(p[3] + sigma[3]))*x[3])/4\n",
      "(-1)**(3/4)*(-(exp(I*(p[10] + p[5] + sigma[10] + sigma[5])) - I*exp(I*(p[13] + p[6] + sigma[13] + sigma[6])))*exp(I*(p[2] + sigma[2]))*x[2] - (exp(I*(p[10] + p[5] + sigma[10] + sigma[5])) + I*exp(I*(p[13] + p[6] + sigma[13] + sigma[6])))*exp(I*(p[1] + sigma[1]))*x[1] + (exp(I*(p[10] + p[7] + sigma[10] + sigma[7])) - I*exp(I*(p[13] + p[8] + sigma[13] + sigma[8])))*exp(I*(p[4] + sigma[4]))*x[4] + (exp(I*(p[10] + p[7] + sigma[10] + sigma[7])) + I*exp(I*(p[13] + p[8] + sigma[13] + sigma[8])))*exp(I*(p[3] + sigma[3]))*x[3])/4\n",
      "(-1)**(3/4)*(-(I*exp(I*(p[12] + sigma[12])) - exp(I*(p[14] + sigma[14])))*exp(I*(p[3] + p[8] + sigma[3] + sigma[8]))*x[3] + (I*exp(I*(p[12] + sigma[12])) - exp(I*(p[14] + sigma[14])))*exp(I*(p[4] + p[8] + sigma[4] + sigma[8]))*x[4] - (I*exp(I*(p[12] + sigma[12])) + exp(I*(p[14] + sigma[14])))*exp(I*(p[1] + p[6] + sigma[1] + sigma[6]))*x[1] + (I*exp(I*(p[12] + sigma[12])) + exp(I*(p[14] + sigma[14])))*exp(I*(p[2] + p[6] + sigma[2] + sigma[6]))*x[2])/4\n",
      "(-1)**(3/4)*(-(exp(I*(p[12] + sigma[12])) - I*exp(I*(p[14] + sigma[14])))*exp(I*(p[3] + p[8] + sigma[3] + sigma[8]))*x[3] + (exp(I*(p[12] + sigma[12])) - I*exp(I*(p[14] + sigma[14])))*exp(I*(p[4] + p[8] + sigma[4] + sigma[8]))*x[4] - (exp(I*(p[12] + sigma[12])) + I*exp(I*(p[14] + sigma[14])))*exp(I*(p[1] + p[6] + sigma[1] + sigma[6]))*x[1] + (exp(I*(p[12] + sigma[12])) + I*exp(I*(p[14] + sigma[14])))*exp(I*(p[2] + p[6] + sigma[2] + sigma[6]))*x[2])/4\n"
     ]
    }
   ],
   "source": [
    "to_eval = []\n",
    "for i in f:\n",
    "    to_eval.append(str(sp.simplify(i)))\n",
    "    print(to_eval[-1])"
   ]
  },
  {
   "cell_type": "code",
   "execution_count": 26,
   "metadata": {},
   "outputs": [
    {
     "data": {
      "text/latex": [
       "$\\displaystyle \\left[\\begin{matrix}\\frac{1}{2} & \\frac{1}{2} & \\frac{1}{2} & \\frac{1}{2}\\\\\\sqrt{\\frac{e^{- i {p}_{11} - i {\\sigma}_{11}} e^{i {p}_{11} + i {\\sigma}_{11}} e^{- i {p}_{6} - i {\\sigma}_{6}} e^{i {p}_{6} + i {\\sigma}_{6}}}{16} + \\frac{i e^{- i {p}_{11} - i {\\sigma}_{11}} e^{i {p}_{5} + i {\\sigma}_{5}} e^{- i {p}_{6} - i {\\sigma}_{6}} e^{i {p}_{9} + i {\\sigma}_{9}}}{16} - \\frac{i e^{i {p}_{11} + i {\\sigma}_{11}} e^{- i {p}_{5} - i {\\sigma}_{5}} e^{i {p}_{6} + i {\\sigma}_{6}} e^{- i {p}_{9} - i {\\sigma}_{9}}}{16} + \\frac{e^{- i {p}_{5} - i {\\sigma}_{5}} e^{i {p}_{5} + i {\\sigma}_{5}} e^{- i {p}_{9} - i {\\sigma}_{9}} e^{i {p}_{9} + i {\\sigma}_{9}}}{16}} & \\sqrt{\\frac{e^{- i {p}_{11} - i {\\sigma}_{11}} e^{i {p}_{11} + i {\\sigma}_{11}} e^{- i {p}_{6} - i {\\sigma}_{6}} e^{i {p}_{6} + i {\\sigma}_{6}}}{16} - \\frac{i e^{- i {p}_{11} - i {\\sigma}_{11}} e^{i {p}_{5} + i {\\sigma}_{5}} e^{- i {p}_{6} - i {\\sigma}_{6}} e^{i {p}_{9} + i {\\sigma}_{9}}}{16} + \\frac{i e^{i {p}_{11} + i {\\sigma}_{11}} e^{- i {p}_{5} - i {\\sigma}_{5}} e^{i {p}_{6} + i {\\sigma}_{6}} e^{- i {p}_{9} - i {\\sigma}_{9}}}{16} + \\frac{e^{- i {p}_{5} - i {\\sigma}_{5}} e^{i {p}_{5} + i {\\sigma}_{5}} e^{- i {p}_{9} - i {\\sigma}_{9}} e^{i {p}_{9} + i {\\sigma}_{9}}}{16}} & \\sqrt{\\frac{e^{- i {p}_{11} - i {\\sigma}_{11}} e^{i {p}_{11} + i {\\sigma}_{11}} e^{- i {p}_{8} - i {\\sigma}_{8}} e^{i {p}_{8} + i {\\sigma}_{8}}}{16} - \\frac{i e^{- i {p}_{11} - i {\\sigma}_{11}} e^{i {p}_{7} + i {\\sigma}_{7}} e^{- i {p}_{8} - i {\\sigma}_{8}} e^{i {p}_{9} + i {\\sigma}_{9}}}{16} + \\frac{i e^{i {p}_{11} + i {\\sigma}_{11}} e^{- i {p}_{7} - i {\\sigma}_{7}} e^{i {p}_{8} + i {\\sigma}_{8}} e^{- i {p}_{9} - i {\\sigma}_{9}}}{16} + \\frac{e^{- i {p}_{7} - i {\\sigma}_{7}} e^{i {p}_{7} + i {\\sigma}_{7}} e^{- i {p}_{9} - i {\\sigma}_{9}} e^{i {p}_{9} + i {\\sigma}_{9}}}{16}} & \\sqrt{\\frac{e^{- i {p}_{11} - i {\\sigma}_{11}} e^{i {p}_{11} + i {\\sigma}_{11}} e^{- i {p}_{8} - i {\\sigma}_{8}} e^{i {p}_{8} + i {\\sigma}_{8}}}{16} + \\frac{i e^{- i {p}_{11} - i {\\sigma}_{11}} e^{i {p}_{7} + i {\\sigma}_{7}} e^{- i {p}_{8} - i {\\sigma}_{8}} e^{i {p}_{9} + i {\\sigma}_{9}}}{16} - \\frac{i e^{i {p}_{11} + i {\\sigma}_{11}} e^{- i {p}_{7} - i {\\sigma}_{7}} e^{i {p}_{8} + i {\\sigma}_{8}} e^{- i {p}_{9} - i {\\sigma}_{9}}}{16} + \\frac{e^{- i {p}_{7} - i {\\sigma}_{7}} e^{i {p}_{7} + i {\\sigma}_{7}} e^{- i {p}_{9} - i {\\sigma}_{9}} e^{i {p}_{9} + i {\\sigma}_{9}}}{16}}\\\\\\sqrt{\\frac{e^{- i {p}_{11} - i {\\sigma}_{11}} e^{i {p}_{11} + i {\\sigma}_{11}} e^{- i {p}_{6} - i {\\sigma}_{6}} e^{i {p}_{6} + i {\\sigma}_{6}}}{16} - \\frac{i e^{- i {p}_{11} - i {\\sigma}_{11}} e^{i {p}_{5} + i {\\sigma}_{5}} e^{- i {p}_{6} - i {\\sigma}_{6}} e^{i {p}_{9} + i {\\sigma}_{9}}}{16} + \\frac{i e^{i {p}_{11} + i {\\sigma}_{11}} e^{- i {p}_{5} - i {\\sigma}_{5}} e^{i {p}_{6} + i {\\sigma}_{6}} e^{- i {p}_{9} - i {\\sigma}_{9}}}{16} + \\frac{e^{- i {p}_{5} - i {\\sigma}_{5}} e^{i {p}_{5} + i {\\sigma}_{5}} e^{- i {p}_{9} - i {\\sigma}_{9}} e^{i {p}_{9} + i {\\sigma}_{9}}}{16}} & \\sqrt{\\frac{e^{- i {p}_{11} - i {\\sigma}_{11}} e^{i {p}_{11} + i {\\sigma}_{11}} e^{- i {p}_{6} - i {\\sigma}_{6}} e^{i {p}_{6} + i {\\sigma}_{6}}}{16} + \\frac{i e^{- i {p}_{11} - i {\\sigma}_{11}} e^{i {p}_{5} + i {\\sigma}_{5}} e^{- i {p}_{6} - i {\\sigma}_{6}} e^{i {p}_{9} + i {\\sigma}_{9}}}{16} - \\frac{i e^{i {p}_{11} + i {\\sigma}_{11}} e^{- i {p}_{5} - i {\\sigma}_{5}} e^{i {p}_{6} + i {\\sigma}_{6}} e^{- i {p}_{9} - i {\\sigma}_{9}}}{16} + \\frac{e^{- i {p}_{5} - i {\\sigma}_{5}} e^{i {p}_{5} + i {\\sigma}_{5}} e^{- i {p}_{9} - i {\\sigma}_{9}} e^{i {p}_{9} + i {\\sigma}_{9}}}{16}} & \\sqrt{\\frac{e^{- i {p}_{11} - i {\\sigma}_{11}} e^{i {p}_{11} + i {\\sigma}_{11}} e^{- i {p}_{8} - i {\\sigma}_{8}} e^{i {p}_{8} + i {\\sigma}_{8}}}{16} + \\frac{i e^{- i {p}_{11} - i {\\sigma}_{11}} e^{i {p}_{7} + i {\\sigma}_{7}} e^{- i {p}_{8} - i {\\sigma}_{8}} e^{i {p}_{9} + i {\\sigma}_{9}}}{16} - \\frac{i e^{i {p}_{11} + i {\\sigma}_{11}} e^{- i {p}_{7} - i {\\sigma}_{7}} e^{i {p}_{8} + i {\\sigma}_{8}} e^{- i {p}_{9} - i {\\sigma}_{9}}}{16} + \\frac{e^{- i {p}_{7} - i {\\sigma}_{7}} e^{i {p}_{7} + i {\\sigma}_{7}} e^{- i {p}_{9} - i {\\sigma}_{9}} e^{i {p}_{9} + i {\\sigma}_{9}}}{16}} & \\sqrt{\\frac{e^{- i {p}_{11} - i {\\sigma}_{11}} e^{i {p}_{11} + i {\\sigma}_{11}} e^{- i {p}_{8} - i {\\sigma}_{8}} e^{i {p}_{8} + i {\\sigma}_{8}}}{16} - \\frac{i e^{- i {p}_{11} - i {\\sigma}_{11}} e^{i {p}_{7} + i {\\sigma}_{7}} e^{- i {p}_{8} - i {\\sigma}_{8}} e^{i {p}_{9} + i {\\sigma}_{9}}}{16} + \\frac{i e^{i {p}_{11} + i {\\sigma}_{11}} e^{- i {p}_{7} - i {\\sigma}_{7}} e^{i {p}_{8} + i {\\sigma}_{8}} e^{- i {p}_{9} - i {\\sigma}_{9}}}{16} + \\frac{e^{- i {p}_{7} - i {\\sigma}_{7}} e^{i {p}_{7} + i {\\sigma}_{7}} e^{- i {p}_{9} - i {\\sigma}_{9}} e^{i {p}_{9} + i {\\sigma}_{9}}}{16}}\\\\\\sqrt{\\frac{e^{- i {p}_{10} - i {\\sigma}_{10}} e^{i {p}_{10} + i {\\sigma}_{10}} e^{- i {p}_{5} - i {\\sigma}_{5}} e^{i {p}_{5} + i {\\sigma}_{5}}}{16} - \\frac{i e^{- i {p}_{10} - i {\\sigma}_{10}} e^{i {p}_{13} + i {\\sigma}_{13}} e^{- i {p}_{5} - i {\\sigma}_{5}} e^{i {p}_{6} + i {\\sigma}_{6}}}{16} + \\frac{i e^{i {p}_{10} + i {\\sigma}_{10}} e^{- i {p}_{13} - i {\\sigma}_{13}} e^{i {p}_{5} + i {\\sigma}_{5}} e^{- i {p}_{6} - i {\\sigma}_{6}}}{16} + \\frac{e^{- i {p}_{13} - i {\\sigma}_{13}} e^{i {p}_{13} + i {\\sigma}_{13}} e^{- i {p}_{6} - i {\\sigma}_{6}} e^{i {p}_{6} + i {\\sigma}_{6}}}{16}} & \\sqrt{\\frac{e^{- i {p}_{10} - i {\\sigma}_{10}} e^{i {p}_{10} + i {\\sigma}_{10}} e^{- i {p}_{5} - i {\\sigma}_{5}} e^{i {p}_{5} + i {\\sigma}_{5}}}{16} + \\frac{i e^{- i {p}_{10} - i {\\sigma}_{10}} e^{i {p}_{13} + i {\\sigma}_{13}} e^{- i {p}_{5} - i {\\sigma}_{5}} e^{i {p}_{6} + i {\\sigma}_{6}}}{16} - \\frac{i e^{i {p}_{10} + i {\\sigma}_{10}} e^{- i {p}_{13} - i {\\sigma}_{13}} e^{i {p}_{5} + i {\\sigma}_{5}} e^{- i {p}_{6} - i {\\sigma}_{6}}}{16} + \\frac{e^{- i {p}_{13} - i {\\sigma}_{13}} e^{i {p}_{13} + i {\\sigma}_{13}} e^{- i {p}_{6} - i {\\sigma}_{6}} e^{i {p}_{6} + i {\\sigma}_{6}}}{16}} & \\sqrt{\\frac{e^{- i {p}_{10} - i {\\sigma}_{10}} e^{i {p}_{10} + i {\\sigma}_{10}} e^{- i {p}_{7} - i {\\sigma}_{7}} e^{i {p}_{7} + i {\\sigma}_{7}}}{16} - \\frac{i e^{- i {p}_{10} - i {\\sigma}_{10}} e^{i {p}_{13} + i {\\sigma}_{13}} e^{- i {p}_{7} - i {\\sigma}_{7}} e^{i {p}_{8} + i {\\sigma}_{8}}}{16} + \\frac{i e^{i {p}_{10} + i {\\sigma}_{10}} e^{- i {p}_{13} - i {\\sigma}_{13}} e^{i {p}_{7} + i {\\sigma}_{7}} e^{- i {p}_{8} - i {\\sigma}_{8}}}{16} + \\frac{e^{- i {p}_{13} - i {\\sigma}_{13}} e^{i {p}_{13} + i {\\sigma}_{13}} e^{- i {p}_{8} - i {\\sigma}_{8}} e^{i {p}_{8} + i {\\sigma}_{8}}}{16}} & \\sqrt{\\frac{e^{- i {p}_{10} - i {\\sigma}_{10}} e^{i {p}_{10} + i {\\sigma}_{10}} e^{- i {p}_{7} - i {\\sigma}_{7}} e^{i {p}_{7} + i {\\sigma}_{7}}}{16} + \\frac{i e^{- i {p}_{10} - i {\\sigma}_{10}} e^{i {p}_{13} + i {\\sigma}_{13}} e^{- i {p}_{7} - i {\\sigma}_{7}} e^{i {p}_{8} + i {\\sigma}_{8}}}{16} - \\frac{i e^{i {p}_{10} + i {\\sigma}_{10}} e^{- i {p}_{13} - i {\\sigma}_{13}} e^{i {p}_{7} + i {\\sigma}_{7}} e^{- i {p}_{8} - i {\\sigma}_{8}}}{16} + \\frac{e^{- i {p}_{13} - i {\\sigma}_{13}} e^{i {p}_{13} + i {\\sigma}_{13}} e^{- i {p}_{8} - i {\\sigma}_{8}} e^{i {p}_{8} + i {\\sigma}_{8}}}{16}}\\\\\\sqrt{\\frac{e^{- i {p}_{10} - i {\\sigma}_{10}} e^{i {p}_{10} + i {\\sigma}_{10}} e^{- i {p}_{5} - i {\\sigma}_{5}} e^{i {p}_{5} + i {\\sigma}_{5}}}{16} + \\frac{i e^{- i {p}_{10} - i {\\sigma}_{10}} e^{i {p}_{13} + i {\\sigma}_{13}} e^{- i {p}_{5} - i {\\sigma}_{5}} e^{i {p}_{6} + i {\\sigma}_{6}}}{16} - \\frac{i e^{i {p}_{10} + i {\\sigma}_{10}} e^{- i {p}_{13} - i {\\sigma}_{13}} e^{i {p}_{5} + i {\\sigma}_{5}} e^{- i {p}_{6} - i {\\sigma}_{6}}}{16} + \\frac{e^{- i {p}_{13} - i {\\sigma}_{13}} e^{i {p}_{13} + i {\\sigma}_{13}} e^{- i {p}_{6} - i {\\sigma}_{6}} e^{i {p}_{6} + i {\\sigma}_{6}}}{16}} & \\sqrt{\\frac{e^{- i {p}_{10} - i {\\sigma}_{10}} e^{i {p}_{10} + i {\\sigma}_{10}} e^{- i {p}_{5} - i {\\sigma}_{5}} e^{i {p}_{5} + i {\\sigma}_{5}}}{16} - \\frac{i e^{- i {p}_{10} - i {\\sigma}_{10}} e^{i {p}_{13} + i {\\sigma}_{13}} e^{- i {p}_{5} - i {\\sigma}_{5}} e^{i {p}_{6} + i {\\sigma}_{6}}}{16} + \\frac{i e^{i {p}_{10} + i {\\sigma}_{10}} e^{- i {p}_{13} - i {\\sigma}_{13}} e^{i {p}_{5} + i {\\sigma}_{5}} e^{- i {p}_{6} - i {\\sigma}_{6}}}{16} + \\frac{e^{- i {p}_{13} - i {\\sigma}_{13}} e^{i {p}_{13} + i {\\sigma}_{13}} e^{- i {p}_{6} - i {\\sigma}_{6}} e^{i {p}_{6} + i {\\sigma}_{6}}}{16}} & \\sqrt{\\frac{e^{- i {p}_{10} - i {\\sigma}_{10}} e^{i {p}_{10} + i {\\sigma}_{10}} e^{- i {p}_{7} - i {\\sigma}_{7}} e^{i {p}_{7} + i {\\sigma}_{7}}}{16} + \\frac{i e^{- i {p}_{10} - i {\\sigma}_{10}} e^{i {p}_{13} + i {\\sigma}_{13}} e^{- i {p}_{7} - i {\\sigma}_{7}} e^{i {p}_{8} + i {\\sigma}_{8}}}{16} - \\frac{i e^{i {p}_{10} + i {\\sigma}_{10}} e^{- i {p}_{13} - i {\\sigma}_{13}} e^{i {p}_{7} + i {\\sigma}_{7}} e^{- i {p}_{8} - i {\\sigma}_{8}}}{16} + \\frac{e^{- i {p}_{13} - i {\\sigma}_{13}} e^{i {p}_{13} + i {\\sigma}_{13}} e^{- i {p}_{8} - i {\\sigma}_{8}} e^{i {p}_{8} + i {\\sigma}_{8}}}{16}} & \\sqrt{\\frac{e^{- i {p}_{10} - i {\\sigma}_{10}} e^{i {p}_{10} + i {\\sigma}_{10}} e^{- i {p}_{7} - i {\\sigma}_{7}} e^{i {p}_{7} + i {\\sigma}_{7}}}{16} - \\frac{i e^{- i {p}_{10} - i {\\sigma}_{10}} e^{i {p}_{13} + i {\\sigma}_{13}} e^{- i {p}_{7} - i {\\sigma}_{7}} e^{i {p}_{8} + i {\\sigma}_{8}}}{16} + \\frac{i e^{i {p}_{10} + i {\\sigma}_{10}} e^{- i {p}_{13} - i {\\sigma}_{13}} e^{i {p}_{7} + i {\\sigma}_{7}} e^{- i {p}_{8} - i {\\sigma}_{8}}}{16} + \\frac{e^{- i {p}_{13} - i {\\sigma}_{13}} e^{i {p}_{13} + i {\\sigma}_{13}} e^{- i {p}_{8} - i {\\sigma}_{8}} e^{i {p}_{8} + i {\\sigma}_{8}}}{16}}\\\\\\frac{\\sqrt{2} \\sqrt{\\frac{e^{- i {p}_{12} - i {\\sigma}_{12}} e^{i {p}_{12} + i {\\sigma}_{12}}}{8} - \\frac{i e^{- i {p}_{12} - i {\\sigma}_{12}} e^{i {p}_{14} + i {\\sigma}_{14}}}{8} + \\frac{i e^{i {p}_{12} + i {\\sigma}_{12}} e^{- i {p}_{14} - i {\\sigma}_{14}}}{8} + \\frac{e^{- i {p}_{14} - i {\\sigma}_{14}} e^{i {p}_{14} + i {\\sigma}_{14}}}{8}}}{2} & \\frac{\\sqrt{2} \\sqrt{\\frac{e^{- i {p}_{12} - i {\\sigma}_{12}} e^{i {p}_{12} + i {\\sigma}_{12}}}{8} - \\frac{i e^{- i {p}_{12} - i {\\sigma}_{12}} e^{i {p}_{14} + i {\\sigma}_{14}}}{8} + \\frac{i e^{i {p}_{12} + i {\\sigma}_{12}} e^{- i {p}_{14} - i {\\sigma}_{14}}}{8} + \\frac{e^{- i {p}_{14} - i {\\sigma}_{14}} e^{i {p}_{14} + i {\\sigma}_{14}}}{8}}}{2} & \\frac{\\sqrt{2} \\sqrt{\\frac{e^{- i {p}_{12} - i {\\sigma}_{12}} e^{i {p}_{12} + i {\\sigma}_{12}}}{8} + \\frac{i e^{- i {p}_{12} - i {\\sigma}_{12}} e^{i {p}_{14} + i {\\sigma}_{14}}}{8} - \\frac{i e^{i {p}_{12} + i {\\sigma}_{12}} e^{- i {p}_{14} - i {\\sigma}_{14}}}{8} + \\frac{e^{- i {p}_{14} - i {\\sigma}_{14}} e^{i {p}_{14} + i {\\sigma}_{14}}}{8}}}{2} & \\frac{\\sqrt{2} \\sqrt{\\frac{e^{- i {p}_{12} - i {\\sigma}_{12}} e^{i {p}_{12} + i {\\sigma}_{12}}}{8} + \\frac{i e^{- i {p}_{12} - i {\\sigma}_{12}} e^{i {p}_{14} + i {\\sigma}_{14}}}{8} - \\frac{i e^{i {p}_{12} + i {\\sigma}_{12}} e^{- i {p}_{14} - i {\\sigma}_{14}}}{8} + \\frac{e^{- i {p}_{14} - i {\\sigma}_{14}} e^{i {p}_{14} + i {\\sigma}_{14}}}{8}}}{2}\\\\\\frac{\\sqrt{2} \\sqrt{\\frac{e^{- i {p}_{12} - i {\\sigma}_{12}} e^{i {p}_{12} + i {\\sigma}_{12}}}{8} + \\frac{i e^{- i {p}_{12} - i {\\sigma}_{12}} e^{i {p}_{14} + i {\\sigma}_{14}}}{8} - \\frac{i e^{i {p}_{12} + i {\\sigma}_{12}} e^{- i {p}_{14} - i {\\sigma}_{14}}}{8} + \\frac{e^{- i {p}_{14} - i {\\sigma}_{14}} e^{i {p}_{14} + i {\\sigma}_{14}}}{8}}}{2} & \\frac{\\sqrt{2} \\sqrt{\\frac{e^{- i {p}_{12} - i {\\sigma}_{12}} e^{i {p}_{12} + i {\\sigma}_{12}}}{8} + \\frac{i e^{- i {p}_{12} - i {\\sigma}_{12}} e^{i {p}_{14} + i {\\sigma}_{14}}}{8} - \\frac{i e^{i {p}_{12} + i {\\sigma}_{12}} e^{- i {p}_{14} - i {\\sigma}_{14}}}{8} + \\frac{e^{- i {p}_{14} - i {\\sigma}_{14}} e^{i {p}_{14} + i {\\sigma}_{14}}}{8}}}{2} & \\frac{\\sqrt{2} \\sqrt{\\frac{e^{- i {p}_{12} - i {\\sigma}_{12}} e^{i {p}_{12} + i {\\sigma}_{12}}}{8} - \\frac{i e^{- i {p}_{12} - i {\\sigma}_{12}} e^{i {p}_{14} + i {\\sigma}_{14}}}{8} + \\frac{i e^{i {p}_{12} + i {\\sigma}_{12}} e^{- i {p}_{14} - i {\\sigma}_{14}}}{8} + \\frac{e^{- i {p}_{14} - i {\\sigma}_{14}} e^{i {p}_{14} + i {\\sigma}_{14}}}{8}}}{2} & \\frac{\\sqrt{2} \\sqrt{\\frac{e^{- i {p}_{12} - i {\\sigma}_{12}} e^{i {p}_{12} + i {\\sigma}_{12}}}{8} - \\frac{i e^{- i {p}_{12} - i {\\sigma}_{12}} e^{i {p}_{14} + i {\\sigma}_{14}}}{8} + \\frac{i e^{i {p}_{12} + i {\\sigma}_{12}} e^{- i {p}_{14} - i {\\sigma}_{14}}}{8} + \\frac{e^{- i {p}_{14} - i {\\sigma}_{14}} e^{i {p}_{14} + i {\\sigma}_{14}}}{8}}}{2}\\end{matrix}\\right]$"
      ],
      "text/plain": [
       "Matrix([\n",
       "[                                                                                                                                                                                                                                                                                                                                                                                                                                                                1/2,                                                                                                                                                                                                                                                                                                                                                                                                                                                                 1/2,                                                                                                                                                                                                                                                                                                                                                                                                                                                                 1/2,                                                                                                                                                                                                                                                                                                                                                                                                                                                                 1/2],\n",
       "[        sqrt(exp(-I*p[11] - I*sigma[11])*exp(I*p[11] + I*sigma[11])*exp(-I*p[6] - I*sigma[6])*exp(I*p[6] + I*sigma[6])/16 + I*exp(-I*p[11] - I*sigma[11])*exp(I*p[5] + I*sigma[5])*exp(-I*p[6] - I*sigma[6])*exp(I*p[9] + I*sigma[9])/16 - I*exp(I*p[11] + I*sigma[11])*exp(-I*p[5] - I*sigma[5])*exp(I*p[6] + I*sigma[6])*exp(-I*p[9] - I*sigma[9])/16 + exp(-I*p[5] - I*sigma[5])*exp(I*p[5] + I*sigma[5])*exp(-I*p[9] - I*sigma[9])*exp(I*p[9] + I*sigma[9])/16),         sqrt(exp(-I*p[11] - I*sigma[11])*exp(I*p[11] + I*sigma[11])*exp(-I*p[6] - I*sigma[6])*exp(I*p[6] + I*sigma[6])/16 - I*exp(-I*p[11] - I*sigma[11])*exp(I*p[5] + I*sigma[5])*exp(-I*p[6] - I*sigma[6])*exp(I*p[9] + I*sigma[9])/16 + I*exp(I*p[11] + I*sigma[11])*exp(-I*p[5] - I*sigma[5])*exp(I*p[6] + I*sigma[6])*exp(-I*p[9] - I*sigma[9])/16 + exp(-I*p[5] - I*sigma[5])*exp(I*p[5] + I*sigma[5])*exp(-I*p[9] - I*sigma[9])*exp(I*p[9] + I*sigma[9])/16),         sqrt(exp(-I*p[11] - I*sigma[11])*exp(I*p[11] + I*sigma[11])*exp(-I*p[8] - I*sigma[8])*exp(I*p[8] + I*sigma[8])/16 - I*exp(-I*p[11] - I*sigma[11])*exp(I*p[7] + I*sigma[7])*exp(-I*p[8] - I*sigma[8])*exp(I*p[9] + I*sigma[9])/16 + I*exp(I*p[11] + I*sigma[11])*exp(-I*p[7] - I*sigma[7])*exp(I*p[8] + I*sigma[8])*exp(-I*p[9] - I*sigma[9])/16 + exp(-I*p[7] - I*sigma[7])*exp(I*p[7] + I*sigma[7])*exp(-I*p[9] - I*sigma[9])*exp(I*p[9] + I*sigma[9])/16),         sqrt(exp(-I*p[11] - I*sigma[11])*exp(I*p[11] + I*sigma[11])*exp(-I*p[8] - I*sigma[8])*exp(I*p[8] + I*sigma[8])/16 + I*exp(-I*p[11] - I*sigma[11])*exp(I*p[7] + I*sigma[7])*exp(-I*p[8] - I*sigma[8])*exp(I*p[9] + I*sigma[9])/16 - I*exp(I*p[11] + I*sigma[11])*exp(-I*p[7] - I*sigma[7])*exp(I*p[8] + I*sigma[8])*exp(-I*p[9] - I*sigma[9])/16 + exp(-I*p[7] - I*sigma[7])*exp(I*p[7] + I*sigma[7])*exp(-I*p[9] - I*sigma[9])*exp(I*p[9] + I*sigma[9])/16)],\n",
       "[        sqrt(exp(-I*p[11] - I*sigma[11])*exp(I*p[11] + I*sigma[11])*exp(-I*p[6] - I*sigma[6])*exp(I*p[6] + I*sigma[6])/16 - I*exp(-I*p[11] - I*sigma[11])*exp(I*p[5] + I*sigma[5])*exp(-I*p[6] - I*sigma[6])*exp(I*p[9] + I*sigma[9])/16 + I*exp(I*p[11] + I*sigma[11])*exp(-I*p[5] - I*sigma[5])*exp(I*p[6] + I*sigma[6])*exp(-I*p[9] - I*sigma[9])/16 + exp(-I*p[5] - I*sigma[5])*exp(I*p[5] + I*sigma[5])*exp(-I*p[9] - I*sigma[9])*exp(I*p[9] + I*sigma[9])/16),         sqrt(exp(-I*p[11] - I*sigma[11])*exp(I*p[11] + I*sigma[11])*exp(-I*p[6] - I*sigma[6])*exp(I*p[6] + I*sigma[6])/16 + I*exp(-I*p[11] - I*sigma[11])*exp(I*p[5] + I*sigma[5])*exp(-I*p[6] - I*sigma[6])*exp(I*p[9] + I*sigma[9])/16 - I*exp(I*p[11] + I*sigma[11])*exp(-I*p[5] - I*sigma[5])*exp(I*p[6] + I*sigma[6])*exp(-I*p[9] - I*sigma[9])/16 + exp(-I*p[5] - I*sigma[5])*exp(I*p[5] + I*sigma[5])*exp(-I*p[9] - I*sigma[9])*exp(I*p[9] + I*sigma[9])/16),         sqrt(exp(-I*p[11] - I*sigma[11])*exp(I*p[11] + I*sigma[11])*exp(-I*p[8] - I*sigma[8])*exp(I*p[8] + I*sigma[8])/16 + I*exp(-I*p[11] - I*sigma[11])*exp(I*p[7] + I*sigma[7])*exp(-I*p[8] - I*sigma[8])*exp(I*p[9] + I*sigma[9])/16 - I*exp(I*p[11] + I*sigma[11])*exp(-I*p[7] - I*sigma[7])*exp(I*p[8] + I*sigma[8])*exp(-I*p[9] - I*sigma[9])/16 + exp(-I*p[7] - I*sigma[7])*exp(I*p[7] + I*sigma[7])*exp(-I*p[9] - I*sigma[9])*exp(I*p[9] + I*sigma[9])/16),         sqrt(exp(-I*p[11] - I*sigma[11])*exp(I*p[11] + I*sigma[11])*exp(-I*p[8] - I*sigma[8])*exp(I*p[8] + I*sigma[8])/16 - I*exp(-I*p[11] - I*sigma[11])*exp(I*p[7] + I*sigma[7])*exp(-I*p[8] - I*sigma[8])*exp(I*p[9] + I*sigma[9])/16 + I*exp(I*p[11] + I*sigma[11])*exp(-I*p[7] - I*sigma[7])*exp(I*p[8] + I*sigma[8])*exp(-I*p[9] - I*sigma[9])/16 + exp(-I*p[7] - I*sigma[7])*exp(I*p[7] + I*sigma[7])*exp(-I*p[9] - I*sigma[9])*exp(I*p[9] + I*sigma[9])/16)],\n",
       "[sqrt(exp(-I*p[10] - I*sigma[10])*exp(I*p[10] + I*sigma[10])*exp(-I*p[5] - I*sigma[5])*exp(I*p[5] + I*sigma[5])/16 - I*exp(-I*p[10] - I*sigma[10])*exp(I*p[13] + I*sigma[13])*exp(-I*p[5] - I*sigma[5])*exp(I*p[6] + I*sigma[6])/16 + I*exp(I*p[10] + I*sigma[10])*exp(-I*p[13] - I*sigma[13])*exp(I*p[5] + I*sigma[5])*exp(-I*p[6] - I*sigma[6])/16 + exp(-I*p[13] - I*sigma[13])*exp(I*p[13] + I*sigma[13])*exp(-I*p[6] - I*sigma[6])*exp(I*p[6] + I*sigma[6])/16), sqrt(exp(-I*p[10] - I*sigma[10])*exp(I*p[10] + I*sigma[10])*exp(-I*p[5] - I*sigma[5])*exp(I*p[5] + I*sigma[5])/16 + I*exp(-I*p[10] - I*sigma[10])*exp(I*p[13] + I*sigma[13])*exp(-I*p[5] - I*sigma[5])*exp(I*p[6] + I*sigma[6])/16 - I*exp(I*p[10] + I*sigma[10])*exp(-I*p[13] - I*sigma[13])*exp(I*p[5] + I*sigma[5])*exp(-I*p[6] - I*sigma[6])/16 + exp(-I*p[13] - I*sigma[13])*exp(I*p[13] + I*sigma[13])*exp(-I*p[6] - I*sigma[6])*exp(I*p[6] + I*sigma[6])/16), sqrt(exp(-I*p[10] - I*sigma[10])*exp(I*p[10] + I*sigma[10])*exp(-I*p[7] - I*sigma[7])*exp(I*p[7] + I*sigma[7])/16 - I*exp(-I*p[10] - I*sigma[10])*exp(I*p[13] + I*sigma[13])*exp(-I*p[7] - I*sigma[7])*exp(I*p[8] + I*sigma[8])/16 + I*exp(I*p[10] + I*sigma[10])*exp(-I*p[13] - I*sigma[13])*exp(I*p[7] + I*sigma[7])*exp(-I*p[8] - I*sigma[8])/16 + exp(-I*p[13] - I*sigma[13])*exp(I*p[13] + I*sigma[13])*exp(-I*p[8] - I*sigma[8])*exp(I*p[8] + I*sigma[8])/16), sqrt(exp(-I*p[10] - I*sigma[10])*exp(I*p[10] + I*sigma[10])*exp(-I*p[7] - I*sigma[7])*exp(I*p[7] + I*sigma[7])/16 + I*exp(-I*p[10] - I*sigma[10])*exp(I*p[13] + I*sigma[13])*exp(-I*p[7] - I*sigma[7])*exp(I*p[8] + I*sigma[8])/16 - I*exp(I*p[10] + I*sigma[10])*exp(-I*p[13] - I*sigma[13])*exp(I*p[7] + I*sigma[7])*exp(-I*p[8] - I*sigma[8])/16 + exp(-I*p[13] - I*sigma[13])*exp(I*p[13] + I*sigma[13])*exp(-I*p[8] - I*sigma[8])*exp(I*p[8] + I*sigma[8])/16)],\n",
       "[sqrt(exp(-I*p[10] - I*sigma[10])*exp(I*p[10] + I*sigma[10])*exp(-I*p[5] - I*sigma[5])*exp(I*p[5] + I*sigma[5])/16 + I*exp(-I*p[10] - I*sigma[10])*exp(I*p[13] + I*sigma[13])*exp(-I*p[5] - I*sigma[5])*exp(I*p[6] + I*sigma[6])/16 - I*exp(I*p[10] + I*sigma[10])*exp(-I*p[13] - I*sigma[13])*exp(I*p[5] + I*sigma[5])*exp(-I*p[6] - I*sigma[6])/16 + exp(-I*p[13] - I*sigma[13])*exp(I*p[13] + I*sigma[13])*exp(-I*p[6] - I*sigma[6])*exp(I*p[6] + I*sigma[6])/16), sqrt(exp(-I*p[10] - I*sigma[10])*exp(I*p[10] + I*sigma[10])*exp(-I*p[5] - I*sigma[5])*exp(I*p[5] + I*sigma[5])/16 - I*exp(-I*p[10] - I*sigma[10])*exp(I*p[13] + I*sigma[13])*exp(-I*p[5] - I*sigma[5])*exp(I*p[6] + I*sigma[6])/16 + I*exp(I*p[10] + I*sigma[10])*exp(-I*p[13] - I*sigma[13])*exp(I*p[5] + I*sigma[5])*exp(-I*p[6] - I*sigma[6])/16 + exp(-I*p[13] - I*sigma[13])*exp(I*p[13] + I*sigma[13])*exp(-I*p[6] - I*sigma[6])*exp(I*p[6] + I*sigma[6])/16), sqrt(exp(-I*p[10] - I*sigma[10])*exp(I*p[10] + I*sigma[10])*exp(-I*p[7] - I*sigma[7])*exp(I*p[7] + I*sigma[7])/16 + I*exp(-I*p[10] - I*sigma[10])*exp(I*p[13] + I*sigma[13])*exp(-I*p[7] - I*sigma[7])*exp(I*p[8] + I*sigma[8])/16 - I*exp(I*p[10] + I*sigma[10])*exp(-I*p[13] - I*sigma[13])*exp(I*p[7] + I*sigma[7])*exp(-I*p[8] - I*sigma[8])/16 + exp(-I*p[13] - I*sigma[13])*exp(I*p[13] + I*sigma[13])*exp(-I*p[8] - I*sigma[8])*exp(I*p[8] + I*sigma[8])/16), sqrt(exp(-I*p[10] - I*sigma[10])*exp(I*p[10] + I*sigma[10])*exp(-I*p[7] - I*sigma[7])*exp(I*p[7] + I*sigma[7])/16 - I*exp(-I*p[10] - I*sigma[10])*exp(I*p[13] + I*sigma[13])*exp(-I*p[7] - I*sigma[7])*exp(I*p[8] + I*sigma[8])/16 + I*exp(I*p[10] + I*sigma[10])*exp(-I*p[13] - I*sigma[13])*exp(I*p[7] + I*sigma[7])*exp(-I*p[8] - I*sigma[8])/16 + exp(-I*p[13] - I*sigma[13])*exp(I*p[13] + I*sigma[13])*exp(-I*p[8] - I*sigma[8])*exp(I*p[8] + I*sigma[8])/16)],\n",
       "[                                                                                                                                                                                                      sqrt(2)*sqrt(exp(-I*p[12] - I*sigma[12])*exp(I*p[12] + I*sigma[12])/8 - I*exp(-I*p[12] - I*sigma[12])*exp(I*p[14] + I*sigma[14])/8 + I*exp(I*p[12] + I*sigma[12])*exp(-I*p[14] - I*sigma[14])/8 + exp(-I*p[14] - I*sigma[14])*exp(I*p[14] + I*sigma[14])/8)/2,                                                                                                                                                                                                       sqrt(2)*sqrt(exp(-I*p[12] - I*sigma[12])*exp(I*p[12] + I*sigma[12])/8 - I*exp(-I*p[12] - I*sigma[12])*exp(I*p[14] + I*sigma[14])/8 + I*exp(I*p[12] + I*sigma[12])*exp(-I*p[14] - I*sigma[14])/8 + exp(-I*p[14] - I*sigma[14])*exp(I*p[14] + I*sigma[14])/8)/2,                                                                                                                                                                                                       sqrt(2)*sqrt(exp(-I*p[12] - I*sigma[12])*exp(I*p[12] + I*sigma[12])/8 + I*exp(-I*p[12] - I*sigma[12])*exp(I*p[14] + I*sigma[14])/8 - I*exp(I*p[12] + I*sigma[12])*exp(-I*p[14] - I*sigma[14])/8 + exp(-I*p[14] - I*sigma[14])*exp(I*p[14] + I*sigma[14])/8)/2,                                                                                                                                                                                                       sqrt(2)*sqrt(exp(-I*p[12] - I*sigma[12])*exp(I*p[12] + I*sigma[12])/8 + I*exp(-I*p[12] - I*sigma[12])*exp(I*p[14] + I*sigma[14])/8 - I*exp(I*p[12] + I*sigma[12])*exp(-I*p[14] - I*sigma[14])/8 + exp(-I*p[14] - I*sigma[14])*exp(I*p[14] + I*sigma[14])/8)/2],\n",
       "[                                                                                                                                                                                                      sqrt(2)*sqrt(exp(-I*p[12] - I*sigma[12])*exp(I*p[12] + I*sigma[12])/8 + I*exp(-I*p[12] - I*sigma[12])*exp(I*p[14] + I*sigma[14])/8 - I*exp(I*p[12] + I*sigma[12])*exp(-I*p[14] - I*sigma[14])/8 + exp(-I*p[14] - I*sigma[14])*exp(I*p[14] + I*sigma[14])/8)/2,                                                                                                                                                                                                       sqrt(2)*sqrt(exp(-I*p[12] - I*sigma[12])*exp(I*p[12] + I*sigma[12])/8 + I*exp(-I*p[12] - I*sigma[12])*exp(I*p[14] + I*sigma[14])/8 - I*exp(I*p[12] + I*sigma[12])*exp(-I*p[14] - I*sigma[14])/8 + exp(-I*p[14] - I*sigma[14])*exp(I*p[14] + I*sigma[14])/8)/2,                                                                                                                                                                                                       sqrt(2)*sqrt(exp(-I*p[12] - I*sigma[12])*exp(I*p[12] + I*sigma[12])/8 - I*exp(-I*p[12] - I*sigma[12])*exp(I*p[14] + I*sigma[14])/8 + I*exp(I*p[12] + I*sigma[12])*exp(-I*p[14] - I*sigma[14])/8 + exp(-I*p[14] - I*sigma[14])*exp(I*p[14] + I*sigma[14])/8)/2,                                                                                                                                                                                                       sqrt(2)*sqrt(exp(-I*p[12] - I*sigma[12])*exp(I*p[12] + I*sigma[12])/8 - I*exp(-I*p[12] - I*sigma[12])*exp(I*p[14] + I*sigma[14])/8 + I*exp(I*p[12] + I*sigma[12])*exp(-I*p[14] - I*sigma[14])/8 + exp(-I*p[14] - I*sigma[14])*exp(I*p[14] + I*sigma[14])/8)/2]])"
      ]
     },
     "execution_count": 26,
     "metadata": {},
     "output_type": "execute_result"
    }
   ],
   "source": [
    "O = sp.Abs(M)\n",
    "O"
   ]
  },
  {
   "cell_type": "code",
   "execution_count": 27,
   "metadata": {},
   "outputs": [],
   "source": [
    "K = sp.Matrix([\n",
    "    [1, 0, 0, 0, 0, 0, 0],\n",
    "    [0, 1,-1, 0, 0, 0, 0],\n",
    "    [0, 0, 0, 1,-1, 0, 0],\n",
    "    [0, 0, 0, 0, 0, 1,-1],\n",
    "])"
   ]
  }
 ],
 "metadata": {
  "kernelspec": {
   "display_name": "venv",
   "language": "python",
   "name": "python3"
  },
  "language_info": {
   "codemirror_mode": {
    "name": "ipython",
    "version": 3
   },
   "file_extension": ".py",
   "mimetype": "text/x-python",
   "name": "python",
   "nbconvert_exporter": "python",
   "pygments_lexer": "ipython3",
   "version": "3.11.9"
  }
 },
 "nbformat": 4,
 "nbformat_minor": 2
}
