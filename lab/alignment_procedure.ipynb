{
 "cells": [
  {
   "cell_type": "markdown",
   "metadata": {},
   "source": [
    "<div align=center>\n",
    "\n",
    "---\n",
    "Alignment procedure\n",
    "===================\n",
    "---\n",
    "\n",
    "</div>\n",
    "\n",
    "Here is the plan of the test bench we want to build:"
   ]
  },
  {
   "cell_type": "markdown",
   "metadata": {},
   "source": [
    "<div align=center>\n",
    "<img src=\"img/plan.png\", height=400px>\n",
    "</div>"
   ]
  },
  {
   "cell_type": "markdown",
   "metadata": {},
   "source": [
    "From left to right, we have:\n",
    "- The white box is a supercontinuum laser source\n",
    "- The box just below contain a filter to select the bandwith and reduce the intensity. It also contain a movable miror to allow to change the laser source.\n",
    "- The light get out of the box in a single mode fiber in order to have a gaussian beam.\n",
    "- The beam is then collimated by a first parabolic mirror and make an angle of 15° to align the beam with the table holes grid.\n",
    "- We then have a ring that keep only the central part of the beam in order to have a flat beam.\n",
    "- This almost-flat beam is focalised by a second miror on a third one placed just next to the ring.\n",
    "- This third mirror is then place in the focal plane and allow for simpler adjustments by slightly tweaking it's orientation rather than moving ll the previous and following elements.\n",
    "- The beam is then colimated again by a fourth mirror and goes on the second pupil plane where a segmented DM is placed.\n",
    "- This segmented DM will be used either to correct the wavefront and redirect the light such as we can control the flux that will pass through each holes in the next pupil mask."
   ]
  },
  {
   "cell_type": "markdown",
   "metadata": {},
   "source": [
    "All the beams are at 150mm from the table."
   ]
  }
 ],
 "metadata": {
  "language_info": {
   "name": "python"
  }
 },
 "nbformat": 4,
 "nbformat_minor": 2
}
