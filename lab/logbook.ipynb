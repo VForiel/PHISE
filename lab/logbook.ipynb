{
 "cells": [
  {
   "cell_type": "markdown",
   "metadata": {},
   "source": [
    "# 11/02/2025\n",
    "\n",
    "> Was present: Nick, Roxanne and Vincent\n",
    "\n",
    "Started to place the components nearly at their final positions."
   ]
  },
  {
   "cell_type": "markdown",
   "metadata": {},
   "source": [
    "# 05/03/2025\n",
    "\n",
    "> Was present: Nick, Roxanne, Sylvie and Vincent\n",
    "\n",
    "Started the alignment of the first components. We tried to make a well colimated beam after the first miror using Nick's technic consisting in placing a ring with well-known diameter nearby the first miror and measure the beam diameter on a wall far from this ring. If the two diameters are the same, the beam should be colimated. However, using the shearplate device that enlight if a beam is colimated using interferance fringes, we saw that the beam was not colimated.\n",
    "\n",
    "We also placed the second miror in order to set the position of the first focal plane. We added a point grey camera on this plan to see the beam profile. The result was highly saturated, but it shows up that the beam has a bit of astigmatism. This is probably due to the mirror orientation, but as the latter cannot be changed, we cant correct it. Since it should not be a big deal for the rest of the manipulation, we decided to let it as it is."
   ]
  },
  {
   "cell_type": "markdown",
   "metadata": {},
   "source": [
    "# 06/03/2025\n",
    "\n",
    "> Was present: Roxanne and Vincent\n",
    "\n",
    "Using the shearplate and by moving the first mirror, we corrected the colimated beam. We also realigned the second mirror to restore the first focal plane at the same position as before using the point grey camera.\n",
    "\n",
    "> Question for Sylvie: does the astigmatisme can come from the beam that doesn't hit a miror perfectly at the center? -> Are the mirors parabolic or spherical?\n",
    "\n",
    "<div align=center>\n",
    "<img src=\"img/shearplate.jpg\" height=\"400\"/>\n",
    "<img src=\"img/point_grey.jpg\" height=\"400\"/>\n",
    "</div>"
   ]
  }
 ],
 "metadata": {
  "language_info": {
   "name": "python"
  }
 },
 "nbformat": 4,
 "nbformat_minor": 2
}
