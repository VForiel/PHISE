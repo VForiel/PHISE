{
 "cells": [
  {
   "cell_type": "markdown",
   "metadata": {},
   "source": [
    "# 11/02/2025\n",
    "\n",
    "Started to place the components nearly at their final positions."
   ]
  },
  {
   "cell_type": "markdown",
   "metadata": {},
   "source": [
    "# 05/03/2025\n",
    "\n",
    "Started the alignment of the first components. We tried to make a well colimated beam after the first miror using Nick's technic consisting in placing a ring with well-known diameter nearby the first miror and measure the beam diameter on a wall far from this ring. If the two diameters are the same, the beam should be colimated. However, using a component that enlight if a beam is colimated using interferance fringes, we saw that the beam was not colimated.\n",
    "\n",
    "We also placed the second miror in order to set the position of the first focal plane. We added a point grey camera on this plan to see the beam profile. The result was highly saturated, but it shows up that the beam has a bit of astigmatism. This is probably due to the mirror orientation, but as the latter cannot be changed, we cant correct it. Since it should not be a big deal for the rest of the manipulation, we decided to let it as it is."
   ]
  }
 ],
 "metadata": {
  "language_info": {
   "name": "python"
  }
 },
 "nbformat": 4,
 "nbformat_minor": 2
}
